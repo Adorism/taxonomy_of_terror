{
 "cells": [
  {
   "cell_type": "markdown",
   "id": "attended-pastor",
   "metadata": {},
   "source": [
    "This dataset is from an October 2017 Kaggle competition and it contains text from the works of three well known horror authors whose work is in the public domain. "
   ]
  },
  {
   "cell_type": "code",
   "execution_count": 39,
   "id": "signal-intranet",
   "metadata": {},
   "outputs": [],
   "source": [
    "import numpy as np\n",
    "import pandas as pd\n",
    "import matplotlib.pyplot as plt\n",
    "\n",
    "import spacy\n",
    "from spacy.symbols import ORTH, LEMMA\n",
    "nlp = spacy.load(\"en_core_web_sm\")\n",
    "\n",
    "import nltk \n",
    "from nltk.sentiment import SentimentIntensityAnalyzer\n",
    "from wordcloud import WordCloud, STOPWORDS\n",
    "from nltk.corpus import stopwords \n",
    "from nltk.stem.porter import PorterStemmer \n",
    "from collections import Counter\n",
    "from sklearn.feature_extraction.text import CountVectorizer"
   ]
  },
  {
   "cell_type": "code",
   "execution_count": 40,
   "id": "beginning-pottery",
   "metadata": {},
   "outputs": [],
   "source": [
    "df = pd.read_csv('../data/train.csv')"
   ]
  },
  {
   "cell_type": "code",
   "execution_count": 41,
   "id": "productive-flash",
   "metadata": {},
   "outputs": [
    {
     "data": {
      "text/html": [
       "<div>\n",
       "<style scoped>\n",
       "    .dataframe tbody tr th:only-of-type {\n",
       "        vertical-align: middle;\n",
       "    }\n",
       "\n",
       "    .dataframe tbody tr th {\n",
       "        vertical-align: top;\n",
       "    }\n",
       "\n",
       "    .dataframe thead th {\n",
       "        text-align: right;\n",
       "    }\n",
       "</style>\n",
       "<table border=\"1\" class=\"dataframe\">\n",
       "  <thead>\n",
       "    <tr style=\"text-align: right;\">\n",
       "      <th></th>\n",
       "      <th>id</th>\n",
       "      <th>text</th>\n",
       "      <th>author</th>\n",
       "    </tr>\n",
       "  </thead>\n",
       "  <tbody>\n",
       "    <tr>\n",
       "      <th>0</th>\n",
       "      <td>id26305</td>\n",
       "      <td>This process, however, afforded me no means of...</td>\n",
       "      <td>EAP</td>\n",
       "    </tr>\n",
       "    <tr>\n",
       "      <th>1</th>\n",
       "      <td>id17569</td>\n",
       "      <td>It never once occurred to me that the fumbling...</td>\n",
       "      <td>HPL</td>\n",
       "    </tr>\n",
       "    <tr>\n",
       "      <th>2</th>\n",
       "      <td>id11008</td>\n",
       "      <td>In his left hand was a gold snuff box, from wh...</td>\n",
       "      <td>EAP</td>\n",
       "    </tr>\n",
       "    <tr>\n",
       "      <th>3</th>\n",
       "      <td>id27763</td>\n",
       "      <td>How lovely is spring As we looked from Windsor...</td>\n",
       "      <td>MWS</td>\n",
       "    </tr>\n",
       "    <tr>\n",
       "      <th>4</th>\n",
       "      <td>id12958</td>\n",
       "      <td>Finding nothing else, not even gold, the Super...</td>\n",
       "      <td>HPL</td>\n",
       "    </tr>\n",
       "  </tbody>\n",
       "</table>\n",
       "</div>"
      ],
      "text/plain": [
       "        id                                               text author\n",
       "0  id26305  This process, however, afforded me no means of...    EAP\n",
       "1  id17569  It never once occurred to me that the fumbling...    HPL\n",
       "2  id11008  In his left hand was a gold snuff box, from wh...    EAP\n",
       "3  id27763  How lovely is spring As we looked from Windsor...    MWS\n",
       "4  id12958  Finding nothing else, not even gold, the Super...    HPL"
      ]
     },
     "execution_count": 41,
     "metadata": {},
     "output_type": "execute_result"
    }
   ],
   "source": [
    "df.head()"
   ]
  },
  {
   "cell_type": "code",
   "execution_count": 42,
   "id": "jewish-portugal",
   "metadata": {},
   "outputs": [],
   "source": [
    "eap_df = df[df['author'] == 'EAP']"
   ]
  },
  {
   "cell_type": "code",
   "execution_count": 43,
   "id": "super-shark",
   "metadata": {},
   "outputs": [],
   "source": [
    "hpl_df = df[df['author'] == 'HPL']"
   ]
  },
  {
   "cell_type": "code",
   "execution_count": 44,
   "id": "extra-agriculture",
   "metadata": {},
   "outputs": [],
   "source": [
    "mws_df = df[df['author'] == 'MWS']"
   ]
  },
  {
   "cell_type": "code",
   "execution_count": 45,
   "id": "institutional-victor",
   "metadata": {},
   "outputs": [],
   "source": [
    "corpus = df['text'].dropna()"
   ]
  },
  {
   "cell_type": "code",
   "execution_count": 47,
   "id": "middle-parker",
   "metadata": {},
   "outputs": [
    {
     "name": "stdout",
     "output_type": "stream",
     "text": [
      "How lovely is spring As we looked from Windsor Terrace on the sixteen fertile counties spread beneath, speckled by happy cottages and wealthier towns, all looked as in former years, heart cheering and fair.\n"
     ]
    }
   ],
   "source": [
    "print(corpus[3])"
   ]
  },
  {
   "cell_type": "code",
   "execution_count": 48,
   "id": "finished-istanbul",
   "metadata": {},
   "outputs": [],
   "source": [
    "stopwords_lst = set(stopwords.words('english'))"
   ]
  },
  {
   "cell_type": "code",
   "execution_count": 50,
   "id": "supreme-travel",
   "metadata": {},
   "outputs": [
    {
     "ename": "AttributeError",
     "evalue": "'Series' object has no attribute 'data'",
     "output_type": "error",
     "traceback": [
      "\u001b[0;31m---------------------------------------------------------------------------\u001b[0m",
      "\u001b[0;31mAttributeError\u001b[0m                            Traceback (most recent call last)",
      "\u001b[0;32m<ipython-input-50-7f84047e83e5>\u001b[0m in \u001b[0;36m<module>\u001b[0;34m\u001b[0m\n\u001b[1;32m      2\u001b[0m                              \u001b[0manalyzer\u001b[0m\u001b[0;34m=\u001b[0m\u001b[0;34m'word'\u001b[0m\u001b[0;34m,\u001b[0m \u001b[0mmax_df\u001b[0m\u001b[0;34m=\u001b[0m\u001b[0;36m1.0\u001b[0m\u001b[0;34m,\u001b[0m \u001b[0mmin_df\u001b[0m\u001b[0;34m=\u001b[0m\u001b[0;36m1\u001b[0m\u001b[0;34m,\u001b[0m\u001b[0;34m\u001b[0m\u001b[0;34m\u001b[0m\u001b[0m\n\u001b[1;32m      3\u001b[0m                              max_features=None)\n\u001b[0;32m----> 4\u001b[0;31m \u001b[0mcount_vect\u001b[0m\u001b[0;34m.\u001b[0m\u001b[0mfit\u001b[0m\u001b[0;34m(\u001b[0m\u001b[0mcorpus\u001b[0m\u001b[0;34m.\u001b[0m\u001b[0mdata\u001b[0m\u001b[0;34m)\u001b[0m\u001b[0;34m\u001b[0m\u001b[0;34m\u001b[0m\u001b[0m\n\u001b[0m",
      "\u001b[0;32m/opt/anaconda3/lib/python3.8/site-packages/pandas/core/generic.py\u001b[0m in \u001b[0;36m__getattr__\u001b[0;34m(self, name)\u001b[0m\n\u001b[1;32m   5460\u001b[0m             \u001b[0;32mif\u001b[0m \u001b[0mself\u001b[0m\u001b[0;34m.\u001b[0m\u001b[0m_info_axis\u001b[0m\u001b[0;34m.\u001b[0m\u001b[0m_can_hold_identifiers_and_holds_name\u001b[0m\u001b[0;34m(\u001b[0m\u001b[0mname\u001b[0m\u001b[0;34m)\u001b[0m\u001b[0;34m:\u001b[0m\u001b[0;34m\u001b[0m\u001b[0;34m\u001b[0m\u001b[0m\n\u001b[1;32m   5461\u001b[0m                 \u001b[0;32mreturn\u001b[0m \u001b[0mself\u001b[0m\u001b[0;34m[\u001b[0m\u001b[0mname\u001b[0m\u001b[0;34m]\u001b[0m\u001b[0;34m\u001b[0m\u001b[0;34m\u001b[0m\u001b[0m\n\u001b[0;32m-> 5462\u001b[0;31m             \u001b[0;32mreturn\u001b[0m \u001b[0mobject\u001b[0m\u001b[0;34m.\u001b[0m\u001b[0m__getattribute__\u001b[0m\u001b[0;34m(\u001b[0m\u001b[0mself\u001b[0m\u001b[0;34m,\u001b[0m \u001b[0mname\u001b[0m\u001b[0;34m)\u001b[0m\u001b[0;34m\u001b[0m\u001b[0;34m\u001b[0m\u001b[0m\n\u001b[0m\u001b[1;32m   5463\u001b[0m \u001b[0;34m\u001b[0m\u001b[0m\n\u001b[1;32m   5464\u001b[0m     \u001b[0;32mdef\u001b[0m \u001b[0m__setattr__\u001b[0m\u001b[0;34m(\u001b[0m\u001b[0mself\u001b[0m\u001b[0;34m,\u001b[0m \u001b[0mname\u001b[0m\u001b[0;34m:\u001b[0m \u001b[0mstr\u001b[0m\u001b[0;34m,\u001b[0m \u001b[0mvalue\u001b[0m\u001b[0;34m)\u001b[0m \u001b[0;34m->\u001b[0m \u001b[0;32mNone\u001b[0m\u001b[0;34m:\u001b[0m\u001b[0;34m\u001b[0m\u001b[0;34m\u001b[0m\u001b[0m\n",
      "\u001b[0;31mAttributeError\u001b[0m: 'Series' object has no attribute 'data'"
     ]
    }
   ],
   "source": [
    "count_vect = CountVectorizer(lowercase=True, tokenizer=None, stop_words=stopwords_lst,\n",
    "                             analyzer='word', max_df=1.0, min_df=1,\n",
    "                             max_features=None)\n",
    "count_vect.fit(.data)"
   ]
  },
  {
   "cell_type": "code",
   "execution_count": 37,
   "id": "piano-joshua",
   "metadata": {},
   "outputs": [
    {
     "name": "stdout",
     "output_type": "stream",
     "text": [
      "['abandon', 'abandoned', 'abaout', 'abhorred', 'abhorrent', 'ability', 'able', 'abnormal', 'abode', 'abroad', 'abruptly', 'absence', 'absent', 'absolute', 'absolutely', 'absorbed', 'absurd', 'abyss', 'abysses', 'academy', 'accents', 'accept', 'access', 'accident', 'accidentally', 'accidents', 'accompanied', 'accompany', 'accomplish', 'accomplished', 'accomplishment', 'accordance', 'according', 'accordingly', 'accosted', 'account', 'accounts', 'accurately', 'accursed', 'accused', 'accustomed', 'acknowledged', 'acquaintance', 'acquainted', 'acquired', 'across', 'act', 'acted', 'action', 'actions', 'active', 'activity', 'acts', 'actual', 'actually', 'acute', 'adapted', 'add', 'added', 'adding', 'addition', 'additional', 'address', 'addressed', 'admirable', 'admiration', 'admired', 'admit', 'admitted', 'adopted', 'adored', 'adorned', 'adrian', 'advance', 'advanced', 'advancing', 'advantage', 'advantages', 'adventure', 'adversary', 'advice', 'aeons', 'aether', 'afar', 'affair', 'affairs', 'affected', 'affection', 'affectionate', 'affections', 'afflicted', 'afford', 'afforded', 'affording', 'afore', 'afraid', 'africa', 'african', 'afternoon', 'afterward', 'afterwards', 'agatha', 'age', 'aged', 'agency', 'agent', 'ages', 'aghast', 'agin', 'agitated', 'agitation', 'ago', 'agonies', 'agonizing', 'agony', 'agreeable', 'agreed', 'ah', 'ahead', 'aid', 'aim', 'air', 'aira', 'airs', 'akin', 'alarm', 'alarmed', 'alas', 'alfred', 'alien', 'alike', 'alive', 'alley', 'alleys', 'allow', 'allowed', 'alluded', 'almost', 'alone', 'along', 'aloud', 'already', 'also', 'altar', 'alter', 'alteration', 'altered', 'although', 'altitude', 'altogether', 'always', 'amazement', 'ambition', 'ambitious', 'america', 'american', 'amiable', 'amid', 'amidst', 'among', 'amongst', 'amount', 'ample', 'amused', 'amusement', 'analogy', 'analysis', 'ancestor', 'ancestors', 'anchor', 'ancient', 'anew', 'angel', 'angelic', 'angell', 'angels', 'anger', 'angle', 'angles', 'angry', 'anguish', 'animal', 'animals', 'animated', 'animation', 'annihilation', 'anon', 'another', 'answer', 'answered', 'antagonist', 'anticipate', 'antique', 'antiquity', 'anxiety', 'anxious', 'anybody', 'anyone', 'anything', 'aout', 'apart', 'apartment', 'apartments', 'ape', 'aperture', 'appalling', 'apparatus', 'apparent', 'apparently', 'appeal', 'appear', 'appearance', 'appearances', 'appeared', 'appears', 'appetite', 'applause', 'application', 'applied', 'apply', 'appointed', 'apprehended', 'apprehension', 'approach', 'approached', 'approaches', 'approaching', 'appropriate', 'april', 'apt', 'arabian', 'arch', 'archaic', 'architecture', 'ardent', 'ardour', 'argument', 'arguments', 'arise', 'arisen', 'arising', 'arkham', 'arm', 'armitage', 'arms', 'army', 'arose', 'around', 'aroused', 'arranged', 'arrangement', 'arrangements', 'arranging', 'arrested', 'arrival', 'arrive', 'arrived', 'arrives', 'art', 'arter', 'arthur', 'article', 'articles', 'articulate', 'artificial', 'artist', 'arts', 'ascend', 'ascended', 'ascending', 'ascent', 'ascertain', 'ascertained', 'ashes', 'asia', 'aside', 'ask', 'asked', 'asleep', 'aspect', 'assassins', 'assembled', 'assembly', 'assert', 'assertion', 'assigned', 'assist', 'assistance', 'associated', 'associates', 'association', 'associations', 'assume', 'assumed', 'assuming', 'assure', 'assured', 'assuredly', 'astonished', 'astonishing', 'astonishment', 'astronomers', 'astronomical', 'asylum', 'atal', 'ate', 'athens', 'atlantic', 'atmosphere', 'atmospheric', 'attached', 'attachment', 'attack', 'attain', 'attained', 'attempt', 'attempted', 'attempting', 'attempts', 'attend', 'attendance', 'attendant', 'attendants', 'attended', 'attending', 'attention', 'attic', 'attracted', 'attributed', 'au', 'audible', 'audience', 'aught', 'augmented', 'august', 'aunt', 'author', 'authorities', 'authority', 'automaton', 'autumn', 'avalanche', 'avenue', 'average', 'aversion', 'avoid', 'avoided', 'awaited', 'awaiting', 'awake', 'awaked', 'awaken', 'awakened', 'awakening', 'awaking', 'aware', 'away', 'awe', 'awful', 'awhile', 'awoke', 'axis', 'b', 'back', 'background', 'bad', 'bade', 'badly', 'baffling', 'bag', 'balbutius', 'ballast', 'balloon', 'band', 'bandage', 'bank', 'banks', 'bare', 'barely', 'bark', 'barn', 'baron', 'barren', 'barri', 'barrier', 'barriers', 'barry', 'barzai', 'bas', 'base', 'battle', 'bay', 'baying', 'beach', 'beam', 'beams', 'bear', 'beard', 'bearded', 'bearing', 'bears', 'beast', 'beasts', 'beat', 'beaten', 'beating', 'beauteous', 'beauties', 'beautiful', 'beauty', 'beauvais', 'became', 'become', 'becomes', 'becoming', 'bed', 'beds', 'bedstead', 'beetle', 'beg', 'began', 'begged', 'begin', 'beginning', 'begun', 'behavior', 'beheld', 'behind', 'behold', 'beings', 'belief', 'believe', 'believed', 'believing', 'bell', 'bells', 'belong', 'belonged', 'belonging', 'beloved', 'ben', 'bend', 'beneath', 'benefit', 'benevolence', 'benevolent', 'bent', 'berenice', 'berlifitzing', 'beside', 'besides', 'best', 'bestow', 'bestowed', 'betook', 'betrayed', 'better', 'betwixt', 'bewildered', 'beyond', 'bidding', 'big', 'bill', 'birch', 'bird', 'birds', 'birth', 'bishop', 'bit', 'bite', 'bitter', 'bitterly', 'bitterness', 'bizarre', 'black', 'blackened', 'blackness', 'blackwood', 'blanc', 'blank', 'blasphemous', 'blast', 'bleak', 'bless', 'blessed', 'blew', 'blind', 'bliss', 'block', 'blocks', 'blood', 'blossoms', 'blow', 'blows', 'blue', 'blush', 'board', 'boarded', 'boasted', 'boat', 'bob', 'bodies', 'bodily', 'body', 'bog', 'bold', 'boldly', 'bolt', 'bone', 'bones', 'book', 'books', 'bore', 'born', 'borne', 'bosom', 'boston', 'bottle', 'bottles', 'bottom', 'boughs', 'bought', 'bound', 'boundary', 'bounded', 'boundless', 'bounds', 'bow', 'bowed', 'bowl', 'box', 'boxes', 'boy', 'boyhood', 'boys', 'brain', 'brains', 'brambles', 'branch', 'branches', 'brass', 'brave', 'bread', 'breadth', 'break', 'breakfast', 'breaking', 'breast', 'breath', 'breathe', 'breathed', 'breathing', 'breathless', 'bred', 'breeze', 'brick', 'bricks', 'bride', 'bridge', 'brief', 'bright', 'brilliancy', 'brilliant', 'bring', 'bringing', 'brings', 'brink', 'broad', 'broke', 'broken', 'brooding', 'brother', 'brothers', 'brought', 'brow', 'brown', 'brute', 'bug', 'bugs', 'building', 'buildings', 'built', 'bulk', 'bullet', 'burden', 'burial', 'buried', 'burn', 'burned', 'burning', 'burst', 'bursting', 'burthen', 'bus', 'bushes', 'busied', 'business', 'busy', 'bygone', 'c', 'cabin', 'calamity', 'calculated', 'call', 'called', 'calling', 'calls', 'calm', 'came', 'camp', 'candidate', 'candle', 'candles', 'cannot', 'canvas', 'cap', 'capable', 'capacity', 'cape', 'capital', 'captain', 'captured', 'car', 'care', 'career', 'careful', 'carefully', 'careless', 'carelessly', 'cares', 'carpet', 'carriage', 'carried', 'carry', 'carter', 'carved', 'carven', 'carvings', 'case', 'cases', 'cast', 'casting', 'castle', 'casual', 'cat', 'cataract', 'catastrophe', 'catch', 'cats', 'cattle', 'caught', 'cause', 'caused', 'causes', 'caution', 'cautious', 'cautiously', 'cave', 'cavern', 'cease', 'ceased', 'ceiling', 'celebrated', 'celestial', 'cell', 'cellar', 'cells', 'cemetery', 'central', 'centre', 'centuries', 'century', 'certain', 'certainly', 'certainty', 'cessation', 'chain', 'chains', 'chair', 'chairs', 'chamber', 'chambers', 'chance', 'chances', 'change', 'changed', 'changes', 'changing', 'channel', 'chaos', 'chapter', 'character', 'characteristic', 'characterized', 'characters', 'charge', 'charity', 'charles', 'charm', 'charnel', 'chasm', 'chateau', 'cheap', 'check', 'checked', 'cheek', 'cheeks', 'cheer', 'cheerful', 'chemical', 'cherished', 'chess', 'chest', 'chief', 'chiefly', 'child', 'childhood', 'childish', 'children', 'chill', 'chilled', 'chimney', 'chin', 'choice', 'choked', 'chose', 'chosen', 'church', 'churches', 'churchyard', 'circle', 'circles', 'circuit', 'circular', 'circumstance', 'circumstances', 'cities', 'citizens', 'city', 'clad', 'claim', 'claimed', 'clambered', 'clara', 'clasped', 'class', 'classes', 'claws', 'clean', 'clear', 'clearly', 'clerval', 'cliff', 'cliffs', 'climax', 'climb', 'climbed', 'climbing', 'clinging', 'cloak', 'clock', 'close', 'closed', 'closely', 'closer', 'closet', 'closing', 'cloth', 'clothed', 'clothes', 'clothing', 'cloud', 'clouded', 'clouds', 'cloudy', 'club', 'clung', 'coach', 'coarse', 'coast', 'coat', 'coffin', 'coffins', 'cohort', 'coincidence', 'coincidences', 'cold', 'coldness', 'collect', 'collected', 'collecting', 'collection', 'college', 'color', 'colored', 'colossal', 'colour', 'colours', 'column', 'columns', 'combat', 'combination', 'combinations', 'combined', 'come', 'comes', 'comet', 'comfort', 'coming', 'command', 'commanded', 'commence', 'commenced', 'commencement', 'comments', 'commerce', 'commercial', 'committed', 'common', 'communicated', 'communication', 'communications', 'community', 'companion', 'companions', 'companionship', 'company', 'comparatively', 'compare', 'compared', 'comparison', 'compartment', 'compassion', 'complained', 'complete', 'completed', 'completely', 'complex', 'complexion', 'comply', 'composed', 'composition', 'composure', 'compound', 'comprehend', 'comprehended', 'comprehension', 'conceal', 'concealed', 'concealment', 'conceivable', 'conceive', 'conceived', 'conception', 'concerned', 'concerning', 'concluded', 'conclusion', 'conclusions', 'condemned', 'condition', 'conditions', 'conduct', 'confess', 'confidence', 'confined', 'confinement', 'confirmed', 'confounded', 'confused', 'confusion', 'conjecture', 'conjectures', 'connected', 'connecting', 'connection', 'connexion', 'conquer', 'conquered', 'conscience', 'conscious', 'consciousness', 'consent', 'consequence', 'consequences', 'consequent', 'consequently', 'consider', 'considerable', 'considerably', 'consideration', 'considerations', 'considered', 'considering', 'consisted', 'consolation', 'console', 'conspicuous', 'constant', 'constantinople', 'constantly', 'constructed', 'contact', 'contagion', 'contain', 'contained', 'containing', 'contemplated', 'contemplation', 'contempt', 'content', 'contented', 'contention', 'contents', 'contest', 'continent', 'continual', 'continually', 'continue', 'continued', 'continuous', 'contour', 'contrary', 'contrast', 'contrived', 'control', 'convenient', 'conversation', 'converse', 'conversed', 'convey', 'conveyed', 'conviction', 'convince', 'convinced', 'convulsed', 'cool', 'copy', 'corey', 'corn', 'corner', 'corpse', 'corpses', 'corresponding', 'corruption', 'cosmic', 'cosmos', 'cost', 'cot', 'cottage', 'cottagers', 'cottages', 'cotton', 'couch', 'could', 'count', 'counted', 'countenance', 'countenances', 'countess', 'country', 'countrymen', 'countryside', 'couple', 'courage', 'course', 'court', 'cousin', 'cover', 'covered', 'covering', 'crab', 'craving', 'crawled', 'creaking', 'create', 'created', 'creation', 'creator', 'creature', 'creatures', 'credit', 'crept', 'crew', 'cried', 'cries', 'crime', 'crimes', 'crimson', 'croaking', 'cross', 'crossed', 'crossing', 'crowd', 'crowded', 'crown', 'crowned', 'crude', 'cruel', 'cruelty', 'crumbling', 'crushed', 'cry', 'cryptic', 'cthulhu', 'cud', 'cult', 'cultivated', 'cumberland', 'cunning', 'cupboard', 'curiosity', 'curious', 'curiously', 'current', 'curse', 'cursed', 'curtain', 'curtains', 'curtis', 'custom', 'customary', 'customs', 'cut', 'cutting', 'cuttings', 'cyclopean', 'daemon', 'daemoniac', 'dagon', 'daily', 'damnable', 'damned', 'damp', 'dance', 'danced', 'dancing', 'danger', 'dangerous', 'dangers', 'dank', 'daown', 'dare', 'dared', 'dark', 'darkened', 'darkness', 'darted', 'dashed', 'dat', 'data', 'date', 'daughter', 'dawn', 'dawned', 'day', 'daylight', 'days', 'dazed', 'dazzling', 'de', 'dead', 'deadly', 'deal', 'dear', 'dearest', 'death', 'deaths', 'decay', 'decayed', 'decaying', 'deceased', 'deceit', 'deceived', 'decide', 'decided', 'decidedly', 'decision', 'decisive', 'deck', 'declared', 'declined', 'decomposition', 'decrepit', 'deductions', 'deed', 'deeds', 'deemed', 'deep', 'deeper', 'deepest', 'deeply', 'defeat', 'defence', 'define', 'defined', 'definite', 'degradation', 'degraded', 'degree', 'degrees', 'deity', 'delay', 'deliberate', 'delicacy', 'delicate', 'delicious', 'delight', 'delighted', 'delightful', 'delights', 'delirious', 'delirium', 'deliver', 'delivered', 'deluc', 'delusion', 'demand', 'demanded', 'demeanor', 'demon', 'den', 'denied', 'dense', 'deny', 'depart', 'departed', 'departure', 'depend', 'depended', 'deposes', 'deposited', 'depressed', 'deprived', 'depth', 'depths', 'derived', 'des', 'desart', 'descend', 'descended', 'descending', 'descent', 'describe', 'described', 'description', 'desert', 'deserted', 'deserved', 'design', 'designed', 'designs', 'desire', 'desired', 'desires', 'desirous', 'desolate', 'desolation', 'despair', 'desperate', 'desperately', 'despite', 'destined', 'destiny', 'destroy', 'destroyed', 'destroying', 'destruction', 'detail', 'detailed', 'details', 'determination', 'determine', 'determined', 'detestable', 'developed', 'development', 'devices', 'devil', 'devils', 'devote', 'devoted', 'devotion', 'dew', 'diameter', 'diana', 'diary', 'diddle', 'diddler', 'die', 'died', 'difference', 'different', 'difficult', 'difficulties', 'difficulty', 'digging', 'dignified', 'dignity', 'dim', 'dimensional', 'dimensions', 'diminished', 'diminutive', 'dimly', 'dinner', 'dint', 'diotima', 'dire', 'direct', 'directed', 'direction', 'directions', 'directly', 'dirty', 'dis', 'disappearance', 'disappeared', 'disappointed', 'disappointment', 'disaster', 'disastrous', 'discern', 'discerned', 'discernible', 'discipline', 'discourse', 'discover', 'discovered', 'discoveries', 'discovery', 'discussed', 'discussion', 'disdain', 'disease', 'diseased', 'disgust', 'dislike', 'disliked', 'dismal', 'dismay', 'dismissed', 'disorder', 'disordered', 'display', 'displayed', 'disposed', 'disposition', 'dispositions', 'dispute', 'dissolution', 'distance', 'distant', 'distinct', 'distinction', 'distinctly', 'distinctness', 'distinguish', 'distinguished', 'distorted', 'distracted', 'distress', 'district', 'disturb', 'disturbance', 'disturbed', 'disturbing', 'divided', 'divine', 'divinity', 'division', 'dizzy', 'doctor', 'document', 'dog', 'dogs', 'dollars', 'dominion', 'done', 'doom', 'door', 'doors', 'doorway', 'double', 'doubled', 'doubly', 'doubt', 'doubted', 'doubtless', 'dow', 'downward', 'dozen', 'dr', 'drag', 'dragged', 'dragging', 'dragon', 'drama', 'drank', 'draperies', 'drapery', 'draught', 'draw', 'drawer', 'drawing', 'drawn', 'dread', 'dreaded', 'dreadful', 'dream', 'dreamed', 'dreaming', 'dreams', 'dreary', 'dress', 'dressed', 'drew', 'drifted', 'drifting', 'drink', 'dripping', 'drive', 'driven', 'drop', 'dropped', 'dropping', 'drove', 'drowned', 'drug', 'drunk', 'drunken', 'dry', 'du', 'duc', 'due', 'dug', 'duke', 'dull', 'dun', 'dungeon', 'dunwich', 'dupin', 'dusk', 'dust', 'dutch', 'duties', 'duty', 'dwell', 'dwelling', 'dwelt', 'dying', 'e', 'eager', 'eagerly', 'eagerness', 'ear', 'earl', 'earlier', 'earliest', 'early', 'earnest', 'earnestly', 'earnestness', 'ears', 'earth', 'earthly', 'earthquake', 'ease', 'easily', 'east', 'eastern', 'eastward', 'easy', 'eat', 'eaten', 'eating', 'ebony', 'echo', 'echoed', 'echoes', 'ecstasy', 'edge', 'edifice', 'edinburgh', 'editor', 'educated', 'education', 'ef', 'effect', 'effected', 'effects', 'effort', 'efforts', 'egress', 'eh', 'eight', 'eighteen', 'eighty', 'either', 'elaborate', 'elapsed', 'elder', 'eldest', 'election', 'electric', 'element', 'elements', 'eleonora', 'elevated', 'elevation', 'eleven', 'eliot', 'elizabeth', 'ellison', 'elopement', 'eloquence', 'else', 'elsewhere', 'elwood', 'em', 'emaciated', 'embrace', 'embraced', 'emerged', 'eminence', 'eminent', 'emotion', 'emotions', 'empire', 'employ', 'employed', 'employment', 'empty', 'en', 'enable', 'enabled', 'encompassed', 'encounter', 'encountered', 'end', 'endeavor', 'endeavored', 'endeavour', 'endeavoured', 'endeavouring', 'ended', 'endless', 'ends', 'endure', 'endured', 'enduring', 'enemies', 'enemy', 'energetic', 'energy', 'engaged', 'engine', 'england', 'english', 'enjoy', 'enjoyed', 'enjoying', 'enjoyment', 'enlightened', 'enormous', 'enough', 'ensued', 'enter', 'entered', 'entering', 'enterprise', 'entertain', 'entertained', 'enthusiasm', 'enthusiastic', 'entire', 'entirely', 'entitled', 'entity', 'entrance', 'entreat', 'entreaties', 'enveloped', 'envy', 'epoch', 'equal', 'equally', 'ere', 'erect', 'ernest', 'error', 'errors', 'escape', 'escaped', 'escaping', 'espanaye', 'especial', 'especially', 'essence', 'est', 'established', 'estate', 'et', 'eternal', 'eternity', 'ether', 'ethereal', 'etoile', 'eugenie', 'europe', 'eustache', 'evadne', 'eve', 'even', 'evening', 'event', 'events', 'ever', 'every', 'everybody', 'everyone', 'everything', 'everywhere', 'evidence', 'evident', 'evidently', 'evil', 'evils', 'evinced', 'ex', 'exact', 'exactly', 'exalted', 'examination', 'examine', 'examined', 'examining', 'example', 'exceeding', 'exceedingly', 'excellence', 'excellencies', 'excellent', 'except', 'exception', 'excess', 'excessive', 'excessively', 'exchange', 'exchanged', 'excite', 'excited', 'excitement', 'exciting', 'exclaimed', 'excuse', 'executed', 'execution', 'exercise', 'exercised', 'exerted', 'exertion', 'exertions', 'exhausted', 'exhibited', 'exhibiter', 'exhibition', 'exile', 'exist', 'existed', 'existence', 'existing', 'exists', 'exotic', 'expanded', 'expect', 'expectation', 'expected', 'expedient', 'expedition', 'expense', 'experience', 'experienced', 'experiences', 'experiment', 'experiments', 'expired', 'explain', 'explained', 'explanation', 'explore', 'exposed', 'express', 'expressed', 'expression', 'expressions', 'expressive', 'exquisite', 'exquisitely', 'extend', 'extended', 'extending', 'extensive', 'extent', 'exterior', 'external', 'extinct', 'extinguish', 'extinguished', 'extra', 'extraordinary', 'extreme', 'extremely', 'extremity', 'exultation', 'eye', 'eyed', 'eyelids', 'eyes', 'fabric', 'fabulous', 'face', 'faced', 'faces', 'fact', 'factory', 'facts', 'faculties', 'fade', 'faded', 'fail', 'failed', 'failing', 'failure', 'faint', 'faintly', 'fair', 'fairly', 'fairy', 'faith', 'faithful', 'fall', 'fallen', 'falling', 'falls', 'false', 'falsehood', 'fame', 'familiar', 'families', 'family', 'famine', 'fancied', 'fancies', 'fanciful', 'fancy', 'fancying', 'fangs', 'fantastic', 'far', 'farewell', 'farmhouse', 'farther', 'farthest', 'fascination', 'fashion', 'fashioned', 'fast', 'fastened', 'fat', 'fatal', 'fate', 'father', 'fathers', 'fatigue', 'fault', 'favour', 'favourable', 'favourite', 'fear', 'feared', 'fearful', 'fearfully', 'fearing', 'fears', 'feature', 'features', 'fed', 'feeble', 'feel', 'feeling', 'feelings', 'feels', 'feet', 'felix', 'fell', 'fellow', 'fellows', 'felt', 'female', 'fer', 'fertile', 'festival', 'fever', 'feverish', 'field', 'fields', 'fiend', 'fiendish', 'fierce', 'fiery', 'fifteen', 'fifth', 'fifty', 'fight', 'figure', 'figures', 'fill', 'filled', 'filling', 'filthy', 'final', 'finally', 'find', 'finding', 'finds', 'fine', 'finger', 'fingers', 'finished', 'fire', 'fired', 'fireplace', 'fires', 'firm', 'firmly', 'first', 'fish', 'fishermen', 'fishing', 'fishy', 'fit', 'fitted', 'fitting', 'five', 'fixed', 'flame', 'flames', 'flash', 'flashed', 'flashes', 'flashlight', 'flat', 'fled', 'flesh', 'flew', 'flies', 'flight', 'floated', 'floating', 'flock', 'flood', 'floor', 'floors', 'flow', 'flowed', 'flower', 'flowers', 'flowing', 'flung', 'flushed', 'fly', 'flying', 'foe', 'folded', 'folding', 'folds', 'foliage', 'folk', 'folks', 'follow', 'followed', 'following', 'follows', 'folly', 'fond', 'food', 'fool', 'foolish', 'fools', 'foot', 'footsteps', 'forbade', 'forbidden', 'force', 'forced', 'forces', 'forefathers', 'forehead', 'foreign', 'forest', 'forever', 'forget', 'forgive', 'forgot', 'forgotten', 'form', 'formed', 'former', 'formerly', 'forming', 'forms', 'formulae', 'forth', 'forthwith', 'fortitude', 'fortnight', 'fortunately', 'fortunato', 'fortune', 'forty', 'forward', 'fought', 'found', 'foundations', 'founded', 'fountain', 'four', 'fourth', 'fragile', 'fragment', 'fragments', 'fragrant', 'frail', 'frame', 'france', 'francs', 'frank', 'frankenstein', 'frantic', 'frantically', 'free', 'freedom', 'freely', 'french', 'frenchman', 'frenzy', 'frequent', 'frequently', 'fresh', 'friend', 'friends', 'friendship', 'fright', 'frightened', 'frightful', 'fro', 'front', 'frost', 'frozen', 'fruit', 'fruits', 'fulfilled', 'fulfilment', 'full', 'fullest', 'fully', 'fumes', 'functions', 'funeral', 'fur', 'furious', 'furiously', 'furniture', 'furry', 'furtive', 'fury', 'futile', 'future', 'g', 'gaiety', 'gain', 'gained', 'gait', 'gale', 'gallant', 'gambrel', 'game', 'gang', 'garb', 'garden', 'gardens', 'garret', 'gas', 'gasped', 'gate', 'gates', 'gather', 'gathered', 'gathering', 'gave', 'gawd', 'gay', 'gaze', 'gazed', 'gazette', 'gazing', 'general', 'generally', 'generation', 'generations', 'generous', 'geneva', 'genius', 'gentle', 'gentleman', 'gentlemen', 'gentleness', 'gently', 'genuine', 'george', 'german', 'gesture', 'gestures', 'get', 'getting', 'ghastly', 'ghost', 'ghoulish', 'giant', 'gift', 'gigantic', 'gilded', 'gilman', 'girl', 'git', 'give', 'given', 'gives', 'giving', 'glad', 'glance', 'glanced', 'glancing', 'glare', 'glaring', 'glass', 'glasses', 'glassy', 'gleamed', 'gleaming', 'glen', 'glided', 'glimpse', 'glimpsed', 'glistened', 'glittering', 'globe', 'gloom', 'gloomy', 'glorious', 'glory', 'glow', 'glowing', 'go', 'goal', 'god', 'goddess', 'gods', 'goes', 'going', 'gold', 'golden', 'gone', 'good', 'goodness', 'goosetherumfoodle', 'gorge', 'gorgeous', 'got', 'gothic', 'government', 'grace', 'graceful', 'gradual', 'gradually', 'grand', 'grandeur', 'grandfather', 'grandmother', 'granite', 'grant', 'granted', 'grasp', 'grasped', 'grass', 'grateful', 'gratitude', 'grave', 'graves', 'gravity', 'gray', 'great', 'greater', 'greatest', 'greatly', 'greece', 'greek', 'greeks', 'green', 'grew', 'grey', 'grief', 'grieved', 'grim', 'grinning', 'grotesque', 'ground', 'grounds', 'group', 'grove', 'groves', 'grow', 'growing', 'grown', 'grows', 'growth', 'gruesome', 'gruff', 'guard', 'guarded', 'guardian', 'guess', 'guessed', 'guest', 'guests', 'guide', 'guided', 'guilt', 'guilty', 'gulf', 'gulfs', 'gush', 'ha', 'habit', 'habitation', 'habits', 'habitual', 'hail', 'hailed', 'hair', 'half', 'hall', 'halls', 'hamlet', 'hand', 'handed', 'handkerchief', 'hands', 'handsome', 'hanging', 'haouse', 'haow', 'happen', 'happened', 'happens', 'happier', 'happiness', 'happy', 'harbour', 'hard', 'hardly', 'harmless', 'harmony', 'harris', 'harsh', 'haste', 'hasten', 'hastened', 'hastily', 'hat', 'hate', 'hated', 'hateful', 'hath', 'hatheg', 'hatred', 'haughty', 'haunt', 'haunted', 'head', 'headed', 'headlong', 'heads', 'health', 'hear', 'heard', 'hearing', 'heart', 'hearted', 'hearts', 'heat', 'heath', 'heaven', 'heavenly', 'heavens', 'heavily', 'heavy', 'heerd', 'heh', 'height', 'heightened', 'heir', 'held', 'hell', 'hellish', 'help', 'helped', 'helpless', 'hem', 'hence', 'henry', 'herbert', 'herd', 'hereafter', 'hereditary', 'hermit', 'hero', 'hesitate', 'hesitated', 'hesitation', 'heterogeneous', 'hey', 'hid', 'hidden', 'hide', 'hideous', 'hideously', 'hiding', 'high', 'higher', 'highest', 'highly', 'highway', 'hill', 'hills', 'hillside', 'hint', 'hinted', 'hints', 'hired', 'history', 'hither', 'hitherto', 'hoary', 'hold', 'holding', 'holds', 'hole', 'holes', 'holland', 'hollow', 'holy', 'home', 'honest', 'honor', 'honour', 'hoop', 'hope', 'hoped', 'hopeless', 'hopes', 'horizon', 'horrible', 'horribly', 'horrid', 'horror', 'horrors', 'horse', 'horses', 'hospital', 'host', 'hot', 'hotel', 'hour', 'hourly', 'hours', 'house', 'household', 'houses', 'hovel', 'hovered', 'however', 'howling', 'hu', 'hue', 'hues', 'huge', 'hum', 'human', 'humanity', 'humble', 'humour', 'hundred', 'hung', 'hunger', 'hurried', 'hurriedly', 'hurry', 'hurt', 'husband', 'hushed', 'hut', 'ice', 'idea', 'ideas', 'identical', 'identify', 'identity', 'idle', 'idol', 'idols', 'idris', 'ignorance', 'ignorant', 'il', 'ill', 'illimitable', 'illness', 'illustrious', 'image', 'images', 'imagination', 'imaginative', 'imagine', 'imagined', 'imagining', 'imbued', 'imitation', 'immediate', 'immediately', 'immemorial', 'immense', 'immortal', 'immortality', 'impatience', 'impatient', 'impeded', 'impending', 'imperfect', 'impetuous', 'importance', 'important', 'impossible', 'impress', 'impressed', 'impression', 'impressions', 'imprisoned', 'improvement', 'impulse', 'impulses', 'inability', 'inanimate', 'incapable', 'inch', 'inches', 'incident', 'incidents', 'inclined', 'including', 'incoherent', 'incomprehensible', 'inconceivable', 'inconvenience', 'increase', 'increased', 'increasing', 'incredible', 'indeed', 'indefinite', 'indescribable', 'india', 'indian', 'indians', 'indignation', 'indistinct', 'individual', 'individuals', 'induce', 'induced', 'indulged', 'inevitable', 'inevitably', 'inexplicable', 'infancy', 'infant', 'infected', 'infection', 'inferior', 'infinite', 'infinitely', 'infinity', 'inflicted', 'influence', 'influenced', 'information', 'informed', 'ingenious', 'ingenuity', 'ingolstadt', 'inhabitants', 'inhabited', 'inhuman', 'injected', 'injury', 'inn', 'inner', 'innocence', 'innocent', 'innsmouth', 'innumerable', 'inquired', 'inquiries', 'inquiry', 'insane', 'insanity', 'inserted', 'inside', 'insist', 'insisted', 'inspection', 'inspector', 'inspire', 'inspired', 'instance', 'instances', 'instant', 'instantly', 'instead', 'instinct', 'instinctively', 'instructed', 'instrument', 'instruments', 'insult', 'intellect', 'intellectual', 'intelligence', 'intelligent', 'intend', 'intended', 'intense', 'intensity', 'intent', 'intention', 'intentions', 'intercourse', 'interest', 'interested', 'interesting', 'interests', 'interference', 'interior', 'interment', 'interrupted', 'interruption', 'interval', 'intervals', 'intervening', 'intimate', 'intolerable', 'introduced', 'introduction', 'intruder', 'invention', 'invested', 'investigation', 'investigations', 'invisible', 'involved', 'inward', 'ipswich', 'iranon', 'irish', 'irksome', 'iron', 'irregular', 'island', 'islands', 'isolated', 'issued', 'italian', 'italy', 'item', 'ivory', 'jealousy', 'jenkin', 'jermyn', 'jest', 'jewels', 'joe', 'johansen', 'john', 'join', 'joined', 'journal', 'journey', 'joy', 'judge', 'judged', 'judges', 'judgment', 'july', 'june', 'jupiter', 'justice', 'justine', 'justly', 'kalos', 'kate', 'keen', 'keep', 'keeping', 'kempelen', 'kept', 'key', 'keziah', 'kilderry', 'kill', 'killed', 'kin', 'kind', 'kinder', 'kindly', 'kindness', 'kinds', 'king', 'kingdom', 'kings', 'kingsport', 'kirwin', 'kissed', 'kla', 'klenze', 'knees', 'knew', 'knife', 'knock', 'knocked', 'knot', 'know', 'knowing', 'knowledge', 'known', 'knows', 'kuranes', 'l', 'la', 'labor', 'laboratory', 'labour', 'labours', 'lack', 'ladies', 'lady', 'laid', 'lain', 'lake', 'lalande', 'lamp', 'land', 'landed', 'landlady', 'lands', 'landscape', 'lane', 'lanes', 'language', 'languages', 'lantern', 'lapse', 'large', 'largely', 'larger', 'last', 'latch', 'late', 'lately', 'later', 'latin', 'latter', 'laugh', 'laughed', 'laughing', 'laughter', 'law', 'laws', 'lay', 'le', 'lead', 'leader', 'leading', 'leads', 'lean', 'leaned', 'leaning', 'leaped', 'leaping', 'learn', 'learned', 'learning', 'learnt', 'least', 'leave', 'leaves', 'leaving', 'led', 'lee', 'left', 'legend', 'legends', 'legrand', 'legrasse', 'legs', 'leisure', 'length', 'lent', 'less', 'lesser', 'lesson', 'lessons', 'lest', 'let', 'letter', 'letters', 'letting', 'level', 'liberty', 'library', 'lid', 'lids', 'lie', 'lies', 'life', 'lifeless', 'lift', 'lifted', 'ligeia', 'light', 'lighted', 'lighter', 'lightly', 'lightning', 'lights', 'like', 'likely', 'likewise', 'lilies', 'limb', 'limbs', 'limit', 'limited', 'limitless', 'limits', 'line', 'lines', 'lingered', 'link', 'linked', 'lionel', 'lips', 'liquid', 'list', 'listen', 'listened', 'listening', 'lit', 'literary', 'litten', 'little', 'live', 'lived', 'lively', 'lives', 'livid', 'living', 'loaded', 'loathsome', 'local', 'locality', 'lock', 'locked', 'locks', 'loft', 'lofty', 'logical', 'lollipop', 'london', 'lone', 'lonely', 'long', 'longed', 'longer', 'look', 'looked', 'looking', 'looks', 'loose', 'loosened', 'lord', 'lore', 'lose', 'losing', 'loss', 'lost', 'lot', 'loud', 'louder', 'loudly', 'love', 'loved', 'loveliness', 'lovely', 'lover', 'loving', 'low', 'lower', 'lowly', 'luminous', 'lurking', 'lustre', 'luxury', 'lying', 'machine', 'machinery', 'mad', 'madame', 'maddening', 'made', 'mademoiselle', 'madly', 'madman', 'madness', 'maelzel', 'magic', 'magistrate', 'magnificence', 'magnificent', 'magnitude', 'maiden', 'maillard', 'main', 'maintained', 'majestic', 'majesty', 'major', 'make', 'makes', 'making', 'malady', 'malignity', 'man', 'managed', 'mangled', 'manhood', 'maniac', 'manifest', 'mankind', 'manner', 'manners', 'mansion', 'manton', 'manuscript', 'many', 'map', 'marble', 'march', 'margaret', 'marie', 'mark', 'marked', 'market', 'marks', 'marriage', 'married', 'marry', 'marsh', 'martense', 'marvellous', 'mask', 'mason', 'masonry', 'mass', 'massa', 'masses', 'massive', 'master', 'match', 'mate', 'material', 'materially', 'materials', 'mathematical', 'mathematics', 'mathilda', 'matter', 'matters', 'maturity', 'may', 'maybe', 'mazurewicz', 'meadow', 'meadows', 'meal', 'mean', 'meaning', 'means', 'meant', 'meantime', 'meanwhile', 'measure', 'measured', 'measures', 'mechanical', 'mechanism', 'medical', 'medicine', 'meditation', 'medium', 'meet', 'meeting', 'melancholy', 'melody', 'melted', 'member', 'members', 'memorable', 'memories', 'memory', 'men', 'menace', 'mental', 'mention', 'mentioned', 'merchant', 'merciful', 'mercy', 'mere', 'merely', 'merit', 'merits', 'merrival', 'merry', 'mesmeric', 'message', 'messrs', 'met', 'metal', 'method', 'methought', 'metropolis', 'metzengerstein', 'mid', 'middle', 'midnight', 'midst', 'mien', 'might', 'mighty', 'mild', 'mile', 'miles', 'military', 'mill', 'mille', 'million', 'millions', 'mind', 'minded', 'minds', 'mine', 'mingle', 'mingled', 'miniature', 'minister', 'minute', 'minutely', 'minuteness', 'minutes', 'miraculous', 'mirror', 'mischief', 'miserable', 'miseries', 'misery', 'misfortune', 'misfortunes', 'miskatonic', 'miss', 'missing', 'mist', 'mistake', 'mistaken', 'mistress', 'mists', 'misty', 'mixed', 'mixture', 'mnar', 'moaning', 'mockery', 'mocking', 'mode', 'model', 'moderate', 'modern', 'modes', 'moissart', 'moment', 'momentary', 'moments', 'mon', 'monday', 'money', 'monotonous', 'monsieur', 'monster', 'monsters', 'monstrous', 'mont', 'month', 'months', 'mood', 'moods', 'moon', 'moonlight', 'moor', 'moral', 'morbid', 'morella', 'moreover', 'morgan', 'morgue', 'morning', 'morrow', 'mortal', 'mortality', 'moskoe', 'moss', 'mostly', 'mother', 'motion', 'motioned', 'motionless', 'motions', 'motive', 'motives', 'mould', 'mound', 'mountain', 'mountainous', 'mountains', 'mounted', 'mournful', 'mouth', 'move', 'moved', 'movement', 'movements', 'moves', 'moving', 'mr', 'mrs', 'ms', 'much', 'mud', 'muffled', 'multitude', 'murder', 'murdered', 'murderer', 'murderers', 'murmur', 'muscles', 'museum', 'music', 'musical', 'musides', 'must', 'mute', 'muttered', 'mutual', 'mysteries', 'mysterious', 'mystery', 'mystic', 'n', 'nail', 'naked', 'name', 'named', 'nameless', 'names', 'naow', 'narration', 'narrative', 'narrow', 'nation', 'nations', 'native', 'natives', 'natural', 'naturally', 'nature', 'nauseous', 'nay', 'nd', 'near', 'nearer', 'nearest', 'nearly', 'neat', 'necessarily', 'necessary', 'necessity', 'neck', 'necronomicon', 'need', 'needed', 'needle', 'needless', 'needs', 'neglect', 'neglected', 'negro', 'neighborhood', 'neighbourhood', 'neighbouring', 'neighbours', 'neither', 'nerve', 'nerves', 'nervous', 'nervously', 'never', 'nevertheless', 'new', 'newly', 'news', 'newspaper', 'newspapers', 'next', 'nigh', 'night', 'nightly', 'nightmare', 'nights', 'nine', 'nineteenth', 'nitre', 'nobility', 'noble', 'nobleman', 'nobody', 'nocturnal', 'noise', 'noises', 'noisome', 'non', 'none', 'noon', 'normal', 'north', 'northern', 'northward', 'nose', 'note', 'noted', 'notes', 'nothing', 'nothingness', 'notice', 'noticed', 'notion', 'notions', 'notwithstanding', 'nought', 'novel', 'novelty', 'november', 'noxious', 'number', 'numbers', 'numerous', 'nurse', 'nursed', 'nyarlathotep', 'oak', 'oaks', 'oath', 'ob', 'obed', 'obeyed', 'object', 'objects', 'obliged', 'obscure', 'observation', 'observations', 'observe', 'observed', 'observer', 'observing', 'obstacle', 'obtain', 'obtained', 'obvious', 'obviously', 'occasion', 'occasional', 'occasionally', 'occasioned', 'occasions', 'occupation', 'occupations', 'occupied', 'occupy', 'occur', 'occurred', 'occurrence', 'occurrences', 'ocean', 'october', 'odd', 'oddly', 'odour', 'offer', 'offered', 'offering', 'office', 'officer', 'officers', 'offspring', 'often', 'oh', 'oil', 'old', 'olden', 'older', 'olive', 'olney', 'ominous', 'one', 'ones', 'onward', 'oonai', 'open', 'opened', 'opening', 'openly', 'opens', 'operation', 'operations', 'opinion', 'opinions', 'oppodeldoc', 'opportunity', 'opposite', 'opposition', 'oppressed', 'oppressive', 'orange', 'orb', 'order', 'ordered', 'orders', 'ordinary', 'organ', 'organic', 'organs', 'origin', 'original', 'originally', 'orphan', 'others', 'otherwise', 'ought', 'ourang', 'outang', 'outer', 'outline', 'outlines', 'outrage', 'outside', 'outstretched', 'outward', 'overboard', 'overcome', 'overflowing', 'overhead', 'overwhelming', 'owner', 'p', 'pace', 'page', 'pages', 'paid', 'pain', 'painful', 'pains', 'paint', 'painted', 'painter', 'painting', 'paintings', 'pair', 'palace', 'palaces', 'pale', 'pallid', 'palpable', 'pandemonium', 'paned', 'panes', 'pangs', 'panic', 'panting', 'paper', 'papers', 'paradise', 'paragraph', 'parallel', 'parchment', 'pardon', 'parent', 'parents', 'paris', 'parisian', 'park', 'part', 'partial', 'partially', 'particle', 'particular', 'particularly', 'particulars', 'partitions', 'partly', 'partook', 'parts', 'party', 'pass', 'passage', 'passages', 'passed', 'passengers', 'passes', 'passing', 'passion', 'passionate', 'passionately', 'passions', 'past', 'paternal', 'path', 'paths', 'patience', 'patient', 'pause', 'paused', 'pausing', 'pavement', 'pay', 'peace', 'peaceful', 'peak', 'peaked', 'peaks', 'peasant', 'peasants', 'peculiar', 'peculiarities', 'peculiarity', 'peculiarly', 'peer', 'pen', 'pencil', 'pendulum', 'penetrate', 'penetrated', 'people', 'per', 'perceive', 'perceived', 'perceiving', 'perceptible', 'perception', 'perdita', 'perfect', 'perfection', 'perfectly', 'perform', 'performed', 'perhaps', 'peril', 'perilous', 'period', 'periods', 'perish', 'perished', 'permanent', 'permit', 'permitted', 'perpetual', 'perpetually', 'perplexed', 'person', 'personage', 'personal', 'persons', 'persuade', 'persuaded', 'persuasion', 'perusal', 'pervaded', 'pervading', 'pest', 'pestilence', 'phenomena', 'phenomenon', 'philosophers', 'philosophy', 'phrase', 'physical', 'physician', 'physicians', 'picked', 'pickman', 'picture', 'pictured', 'pictures', 'picturesque', 'piece', 'pieces', 'piercing', 'pile', 'piled', 'pillars', 'pillow', 'piping', 'pit', 'pitch', 'pitiful', 'pity', 'place', 'placed', 'places', 'placid', 'placing', 'plague', 'plain', 'plainly', 'plains', 'plan', 'plane', 'planet', 'planets', 'planned', 'plans', 'plaster', 'play', 'played', 'player', 'playing', 'pleasant', 'please', 'pleased', 'pleasing', 'pleasure', 'pleasures', 'plenty', 'plunge', 'plunged', 'pocket', 'pockets', 'poem', 'poet', 'poetic', 'poets', 'point', 'pointed', 'pointing', 'points', 'poison', 'poisoned', 'pole', 'police', 'political', 'pompey', 'pondered', 'ponderous', 'pool', 'poor', 'populace', 'popular', 'population', 'port', 'portion', 'portions', 'portrait', 'position', 'positive', 'positively', 'possess', 'possessed', 'possession', 'possessor', 'possibility', 'possible', 'possibly', 'post', 'pot', 'pounds', 'pour', 'poured', 'pouring', 'poverty', 'powder', 'power', 'powerful', 'powers', 'practical', 'practice', 'praise', 'pray', 'prayed', 'prayer', 'prayers', 'precaution', 'preceding', 'precious', 'precipice', 'precipitate', 'precipitated', 'precipitous', 'precise', 'precisely', 'prefect', 'preferred', 'prehistoric', 'prejudices', 'premises', 'prepare', 'prepared', 'preparing', 'presence', 'present', 'presented', 'presently', 'preservation', 'preserve', 'preserved', 'president', 'press', 'pressed', 'pressing', 'pressure', 'presume', 'pretend', 'pretty', 'prevailed', 'prevent', 'prevented', 'previous', 'previously', 'prey', 'price', 'pride', 'priest', 'priests', 'primal', 'primitive', 'prince', 'princess', 'principal', 'principally', 'principle', 'principles', 'print', 'printed', 'prints', 'prison', 'private', 'prize', 'probability', 'probable', 'probably', 'proceed', 'proceeded', 'proceeding', 'proceedings', 'process', 'procure', 'procured', 'prodigious', 'produce', 'produced', 'profession', 'professor', 'professors', 'profound', 'profoundly', 'progress', 'project', 'projects', 'promise', 'promised', 'promises', 'pronounced', 'proof', 'proper', 'properly', 'properties', 'property', 'proportion', 'proportions', 'propose', 'proposed', 'proposition', 'propriety', 'prospect', 'prosperity', 'protect', 'protection', 'protector', 'protectorate', 'protectors', 'protracted', 'proud', 'prove', 'proved', 'provided', 'providence', 'province', 'prudence', 'psyche', 'public', 'published', 'puff', 'pull', 'pulled', 'pulling', 'pulse', 'pundit', 'purchase', 'pure', 'purely', 'purple', 'purpose', 'purposes', 'pursue', 'pursued', 'pursuit', 'pursuits', 'pushed', 'put', 'putting', 'puzzled', 'quaint', 'qualities', 'quality', 'quantity', 'quarter', 'quarters', 'que', 'queen', 'queer', 'queerly', 'quest', 'question', 'questioned', 'questions', 'quick', 'quickly', 'quiet', 'quietly', 'quit', 'quite', 'quitted', 'quitting', 'quivering', 'quoted', 'r', 'race', 'racked', 'radiance', 'radiant', 'radical', 'rage', 'ragged', 'rain', 'raise', 'raised', 'raising', 'ran', 'rang', 'range', 'rank', 'rapid', 'rapidity', 'rapidly', 'rapture', 'rare', 'rash', 'rat', 'rate', 'rather', 'ratio', 'rational', 'rats', 'rattling', 'ravages', 'ravine', 'ray', 'raymond', 'rays', 'reach', 'reached', 'reaching', 'read', 'reader', 'readers', 'readily', 'reading', 'ready', 'real', 'realise', 'realised', 'reality', 'really', 'realms', 'reanimation', 'rear', 'reared', 'reason', 'reasonable', 'reasoning', 'reasons', 'recall', 'recalled', 'receive', 'received', 'receiving', 'recent', 'recess', 'recesses', 'recognised', 'recognized', 'recollect', 'recollection', 'recollections', 'record', 'recorded', 'records', 'recourse', 'recover', 'recovered', 'recovery', 'red', 'reduced', 'reef', 'refer', 'reference', 'referred', 'refined', 'reflect', 'reflected', 'reflecting', 'reflection', 'reflections', 'refuge', 'refusal', 'refuse', 'refused', 'regal', 'regard', 'regarded', 'regarding', 'regards', 'region', 'regions', 'regret', 'regretted', 'regular', 'regulated', 'reign', 'reject', 'relate', 'related', 'relation', 'relations', 'relative', 'relatives', 'relics', 'relief', 'relieve', 'relieved', 'religion', 'reluctance', 'reluctant', 'remain', 'remained', 'remaining', 'remains', 'remark', 'remarkable', 'remarkably', 'remarked', 'remedy', 'remember', 'remembered', 'remembrance', 'remind', 'reminded', 'remnant', 'remorse', 'remote', 'removal', 'remove', 'removed', 'removing', 'render', 'rendered', 'renewed', 'rent', 'repaired', 'repeat', 'repeated', 'repellent', 'repetition', 'replaced', 'replete', 'replied', 'reply', 'report', 'repose', 'reposed', 'represented', 'reproach', 'republic', 'repulsive', 'reputation', 'request', 'requested', 'require', 'required', 'requires', 'requisite', 'rescue', 'researches', 'resemblance', 'resemble', 'resembled', 'resembling', 'resentment', 'reserved', 'resided', 'residence', 'resignation', 'resist', 'resistance', 'resolution', 'resolve', 'resolved', 'respect', 'respectable', 'respecting', 'respects', 'response', 'rest', 'rested', 'restless', 'restoration', 'restore', 'restored', 'restrain', 'result', 'results', 'resumed', 'retain', 'retained', 'retired', 'retreat', 'retreated', 'return', 'returned', 'returning', 'revealed', 'revellers', 'revenge', 'reverence', 'reveries', 'revive', 'revived', 'revolution', 'revolver', 'reward', 'rice', 'rich', 'rid', 'ride', 'right', 'rigid', 'rim', 'ring', 'ringing', 'rise', 'risen', 'rising', 'risk', 'rites', 'ritual', 'rival', 'river', 'rivers', 'riveted', 'road', 'roar', 'roared', 'robber', 'robe', 'robert', 'rock', 'rocks', 'rocky', 'rod', 'rode', 'rog', 'roll', 'rolled', 'roman', 'rome', 'romero', 'roof', 'roofs', 'room', 'rooms', 'roots', 'rope', 'rose', 'rotterdam', 'rotting', 'rough', 'roule', 'round', 'rouse', 'roused', 'route', 'routine', 'rowdy', 'royal', 'rud', 'rudder', 'rude', 'rue', 'rugged', 'ruin', 'ruined', 'ruins', 'rule', 'ruled', 'rumour', 'run', 'running', 'rush', 'rushed', 'rushing', 'ryland', 'sacred', 'sacrifice', 'sacrificed', 'sad', 'sadly', 'safe', 'safely', 'safety', 'safie', 'said', 'sail', 'sailed', 'sailor', 'sailors', 'sails', 'sake', 'salt', 'sands', 'sane', 'sang', 'sanity', 'sank', 'sarnath', 'sat', 'satisfaction', 'satisfactory', 'satisfied', 'satisfy', 'savage', 'save', 'saved', 'saw', 'sawyer', 'say', 'saying', 'says', 'scale', 'scarab', 'scarce', 'scarcely', 'scattered', 'scene', 'scenery', 'scenes', 'scheme', 'schemes', 'scholar', 'school', 'schools', 'science', 'scientific', 'scorn', 'scotland', 'scratching', 'scream', 'screamed', 'screaming', 'screams', 'scrutiny', 'sculptor', 'sea', 'sealed', 'seaman', 'seamen', 'search', 'searched', 'seas', 'season', 'seasons', 'seat', 'seated', 'seats', 'secluded', 'seclusion', 'second', 'seconds', 'secret', 'secrets', 'section', 'secure', 'secured', 'securely', 'security', 'see', 'seed', 'seeing', 'seek', 'seeking', 'seem', 'seemed', 'seeming', 'seemingly', 'seems', 'seen', 'sees', 'seize', 'seized', 'seizing', 'seldom', 'selected', 'self', 'selfish', 'selfishness', 'semblance', 'semi', 'send', 'sending', 'sensation', 'sensations', 'sense', 'senses', 'sensibility', 'sensitive', 'sent', 'sentence', 'sentiment', 'sentiments', 'sentinel', 'separate', 'separated', 'separation', 'september', 'serene', 'series', 'serious', 'serpent', 'servant', 'servants', 'serve', 'served', 'service', 'services', 'set', 'setting', 'settled', 'seven', 'seventeenth', 'seventh', 'seventy', 'several', 'severe', 'shade', 'shades', 'shadow', 'shadowed', 'shadows', 'shadowy', 'shake', 'shaken', 'shaking', 'shall', 'shame', 'shape', 'shaped', 'shapes', 'share', 'shared', 'sharp', 'sharply', 'shattered', 'shed', 'sheehan', 'sheep', 'sheer', 'sheet', 'shell', 'shelter', 'sheltered', 'shepherd', 'shew', 'shewed', 'shewing', 'shewn', 'shield', 'shifting', 'shine', 'shining', 'ship', 'ships', 'shiver', 'shivered', 'shivering', 'shock', 'shocking', 'shoes', 'shone', 'shook', 'shoot', 'shop', 'shore', 'shores', 'short', 'shortly', 'shot', 'shoulder', 'shoulders', 'shout', 'shouted', 'shouts', 'show', 'showed', 'shown', 'shrank', 'shriek', 'shrieked', 'shrieking', 'shrieks', 'shrill', 'shrine', 'shrivelled', 'shroud', 'shudder', 'shuddered', 'shuddering', 'shunned', 'shut', 'shutter', 'shutters', 'shutting', 'sic', 'sick', 'sickened', 'sickening', 'sickly', 'sickness', 'side', 'sides', 'sigh', 'sighs', 'sight', 'sights', 'sign', 'signal', 'significance', 'signs', 'silence', 'silent', 'silently', 'silk', 'silly', 'silver', 'similar', 'simple', 'simplicity', 'simply', 'simpson', 'simultaneously', 'sin', 'since', 'sincerely', 'sing', 'singing', 'single', 'singular', 'singularly', 'sinister', 'sink', 'sinking', 'sir', 'sister', 'sit', 'sitting', 'situated', 'situation', 'six', 'sixteen', 'sixty', 'size', 'skeleton', 'sketch', 'skies', 'skill', 'skin', 'skull', 'sky', 'slab', 'slanting', 'slater', 'slave', 'slaves', 'sledge', 'sleep', 'sleeper', 'sleeping', 'slender', 'slept', 'slight', 'slightest', 'slightly', 'slip', 'slipped', 'slope', 'slopes', 'slow', 'slowly', 'slumber', 'small', 'smaller', 'smell', 'smile', 'smiled', 'smiles', 'smith', 'smoke', 'smooth', 'snatched', 'snow', 'snowy', 'sober', 'social', 'society', 'soft', 'softened', 'softly', 'soil', 'soldier', 'soldiers', 'sole', 'solemn', 'solemnly', 'solid', 'solitary', 'solitude', 'solution', 'somebody', 'somehow', 'someone', 'something', 'sometimes', 'somewhat', 'somewhere', 'son', 'song', 'songs', 'sons', 'soon', 'sooner', 'soothe', 'soothed', 'soothing', 'sorrow', 'sorrowful', 'sorrows', 'sorry', 'sort', 'sothoth', 'sought', 'soul', 'souls', 'sound', 'sounded', 'sounds', 'source', 'sources', 'south', 'southern', 'southward', 'sovereign', 'space', 'spaces', 'spanish', 'spared', 'spark', 'speak', 'speaker', 'speaking', 'speaks', 'special', 'species', 'specimen', 'specimens', 'spectacle', 'spectacles', 'spectator', 'spectators', 'spectral', 'speculation', 'speculations', 'speech', 'speechless', 'speed', 'speedily', 'speedy', 'spell', 'spend', 'spent', 'sphere', 'spheres', 'spirit', 'spirits', 'spiritual', 'spite', 'splendid', 'splendor', 'splendour', 'split', 'spoke', 'spoken', 'spot', 'spots', 'sprang', 'spread', 'spreading', 'spring', 'springing', 'sprung', 'squalid', 'square', 'squatters', 'st', 'stable', 'stage', 'staggered', 'stained', 'staircase', 'stairs', 'stand', 'standing', 'stands', 'star', 'stared', 'staring', 'stark', 'stars', 'start', 'started', 'starting', 'startled', 'startling', 'state', 'stated', 'stately', 'station', 'statue', 'statues', 'stature', 'stay', 'stayed', 'steadily', 'steady', 'steal', 'steel', 'steep', 'steeple', 'stench', 'step', 'stepped', 'steps', 'stern', 'stiff', 'still', 'sting', 'stirred', 'stirring', 'stole', 'stone', 'stones', 'stood', 'stop', 'stopped', 'store', 'stories', 'storm', 'story', 'stout', 'str', 'straight', 'strain', 'strange', 'strangely', 'strangeness', 'stranger', 'strangers', 'straw', 'stream', 'streamed', 'streams', 'street', 'streets', 'strength', 'stretch', 'stretched', 'stricken', 'strict', 'striking', 'strip', 'stroke', 'strong', 'stronger', 'strongly', 'strove', 'struck', 'structure', 'struggle', 'struggled', 'struggles', 'struggling', 'stuck', 'student', 'studied', 'studies', 'study', 'stuff', 'stuffed', 'stumbled', 'stupendous', 'stupor', 'style', 'subdue', 'subdued', 'subject', 'subjected', 'subjects', 'sublime', 'submit', 'subsequent', 'subsequently', 'subsided', 'substance', 'succeed', 'succeeded', 'success', 'succession', 'sudden', 'suddenly', 'suffer', 'suffered', 'sufferer', 'suffering', 'sufferings', 'sufficed', 'sufficient', 'sufficiently', 'suggest', 'suggested', 'suggestion', 'suggestions', 'suicide', 'suit', 'sullen', 'sum', 'summer', 'summit', 'summoned', 'sun', 'sunday', 'sunk', 'sunken', 'sunset', 'sunshine', 'superior', 'superiority', 'superstition', 'superstitious', 'supper', 'supplied', 'supply', 'support', 'supported', 'suppose', 'supposed', 'supposing', 'supposition', 'supreme', 'sure', 'surely', 'surface', 'surmounted', 'surpassing', 'surprise', 'surprised', 'surround', 'surrounded', 'surrounding', 'survey', 'survive', 'survived', 'survivors', 'susceptible', 'suspect', 'suspected', 'suspended', 'suspicion', 'suspicions', 'sustain', 'sustained', 'swallowed', 'swamp', 'swaying', 'swear', 'sweep', 'sweet', 'sweetest', 'swelled', 'swept', 'swift', 'swiftly', 'sword', 'swung', 'syllable', 'syllables', 'symbol', 'sympathy', 'symptoms', 'system', 'table', 'tables', 'tail', 'tainted', 'take', 'taken', 'takes', 'taking', 'talbot', 'tale', 'talent', 'talents', 'tales', 'talk', 'talked', 'talking', 'tall', 'tame', 'taown', 'tarpaulin', 'task', 'taste', 'taught', 'te', 'tea', 'tear', 'tears', 'teeth', 'telescope', 'tell', 'telling', 'temper', 'temperament', 'tempest', 'temple', 'temples', 'tempted', 'ten', 'tended', 'tendency', 'tender', 'tenderness', 'ter', 'term', 'termed', 'termination', 'terms', 'terrace', 'terrible', 'terrific', 'terrified', 'terror', 'terrors', 'test', 'testimony', 'th', 'thank', 'thar', 'theatre', 'thee', 'theme', 'thence', 'theories', 'theory', 'thereafter', 'therefore', 'therein', 'thick', 'thicket', 'thickly', 'thin', 'thing', 'things', 'thingum', 'think', 'thinking', 'thinks', 'third', 'thirst', 'thirteen', 'thirty', 'thither', 'thomas', 'thorough', 'thoroughly', 'thou', 'though', 'thought', 'thoughts', 'thousand', 'thousands', 'threat', 'threatened', 'three', 'threshold', 'threw', 'thrilling', 'throat', 'throne', 'throng', 'thronged', 'throughout', 'throw', 'throwing', 'thrown', 'thrust', 'thunder', 'thus', 'thy', 'tiara', 'tide', 'tied', 'ties', 'tightly', 'till', 'tillinghast', 'time', 'times', 'tinted', 'tiny', 'tis', 'tissue', 'titanic', 'title', 'together', 'toil', 'toils', 'told', 'tomb', 'tombs', 'tone', 'tones', 'tongue', 'tongues', 'took', 'top', 'topic', 'topics', 'torch', 'tore', 'torn', 'torture', 'tossed', 'total', 'totally', 'tottered', 'tottering', 'touch', 'touched', 'touching', 'tour', 'toward', 'towards', 'tower', 'towers', 'town', 'towns', 'trace', 'traced', 'traces', 'track', 'tracks', 'trade', 'tradition', 'tragedy', 'trail', 'train', 'tranquil', 'tranquillity', 'translation', 'transport', 'travel', 'travelled', 'traveller', 'travellers', 'travelling', 'treasure', 'treated', 'tree', 'trees', 'tremble', 'trembled', 'trembling', 'tremendous', 'trever', 'trial', 'tribe', 'tried', 'trifle', 'trifling', 'triumph', 'triumphant', 'trivial', 'trod', 'troops', 'trouble', 'troubled', 'true', 'truly', 'trunk', 'trunks', 'trust', 'truth', 'try', 'trying', 'tube', 'tumult', 'tumultuous', 'turk', 'turkish', 'turks', 'turn', 'turned', 'turning', 'turns', 'twelve', 'twenty', 'twice', 'twilight', 'twisted', 'two', 'type', 'tyranny', 'tyrant', 'u', 'ud', 'ugh', 'ugly', 'ulthar', 'ultimate', 'una', 'unable', 'unaccountable', 'uncanny', 'uncertain', 'uncle', 'unconscious', 'uncouth', 'uncovered', 'understand', 'understanding', 'understood', 'undertaking', 'undisturbed', 'undoubtedly', 'unearthly', 'uneasiness', 'uneasy', 'unexpected', 'unfortunate', 'unhallowed', 'unhappiness', 'unhappy', 'unheard', 'unintelligible', 'union', 'united', 'universal', 'universe', 'university', 'unknown', 'unless', 'unlike', 'unlocked', 'unmistakable', 'unnamable', 'unnatural', 'unparalleled', 'unpleasant', 'unquiet', 'unreal', 'unseen', 'unspeakable', 'untill', 'unto', 'unusual', 'unusually', 'unutterable', 'unwholesome', 'unwilling', 'unworthy', 'upon', 'upper', 'upright', 'uproar', 'upward', 'urged', 'us', 'use', 'used', 'useful', 'useless', 'usher', 'using', 'usual', 'usually', 'utmost', 'utter', 'utterance', 'uttered', 'utterly', 'v', 'vacant', 'vagabond', 'vague', 'vaguely', 'vain', 'vainly', 'valdemar', 'vale', 'valley', 'valleys', 'valor', 'value', 'vanished', 'vapours', 'variation', 'varied', 'variety', 'various', 'vast', 'vat', 'vault', 'vegetation', 'vehicle', 'veil', 'veiled', 'veins', 'velocity', 'velvet', 'venerable', 'vengeance', 'venture', 'ventured', 'verdant', 'verge', 'verney', 'verses', 'vessel', 'vessels', 'vice', 'vicinity', 'victim', 'victims', 'victor', 'victory', 'view', 'viewed', 'views', 'vigorous', 'village', 'villagers', 'villain', 'vine', 'viol', 'violence', 'violent', 'violently', 'violet', 'virtually', 'virtue', 'virtues', 'virtuous', 'visage', 'visible', 'vision', 'visions', 'visit', 'visitation', 'visited', 'visitor', 'visitors', 'visits', 'vista', 'vistas', 'vital', 'vitality', 'vivid', 'vividly', 'vividness', 'vocal', 'voice', 'voices', 'void', 'voissart', 'volume', 'volumes', 'von', 'vondervotteimittiss', 'vortex', 'vow', 'vowed', 'voyage', 'vulgar', 'w', 'wa', 'wade', 'wait', 'waited', 'waiting', 'waker', 'waking', 'walk', 'walked', 'walking', 'walks', 'wall', 'walls', 'wander', 'wandered', 'wandering', 'wanderings', 'waning', 'want', 'wanted', 'wanting', 'wants', 'war', 'warm', 'warmth', 'warning', 'warren', 'washington', 'waste', 'wasted', 'watch', 'watched', 'watches', 'watching', 'water', 'waterfront', 'waters', 'watery', 'wave', 'waved', 'waves', 'waving', 'wax', 'way', 'ways', 'weak', 'weakness', 'wealth', 'wealthy', 'wear', 'wearied', 'weary', 'weather', 'weeds', 'week', 'weeks', 'weep', 'weeping', 'weighed', 'weight', 'weird', 'welcome', 'welcomed', 'welfare', 'well', 'went', 'wept', 'west', 'western', 'westward', 'wet', 'whar', 'wharf', 'whateley', 'whateleys', 'whatever', 'wheel', 'wheels', 'whence', 'whenever', 'wherefore', 'wherein', 'wherever', 'whether', 'whilst', 'whippoorwills', 'whirl', 'whiskey', 'whisper', 'whispered', 'whispering', 'whispers', 'white', 'whither', 'whoever', 'whole', 'wholly', 'whose', 'wicked', 'wide', 'widely', 'widow', 'wife', 'wilbur', 'wilcox', 'wild', 'wilder', 'wilderness', 'wildest', 'wildly', 'william', 'willing', 'wilson', 'win', 'wind', 'winding', 'windings', 'window', 'windows', 'winds', 'windsor', 'wine', 'wing', 'winged', 'wings', 'winter', 'wire', 'wisdom', 'wise', 'wish', 'wished', 'wishes', 'wishing', 'wit', 'witch', 'withdrew', 'within', 'without', 'witness', 'witnessed', 'witnesses', 'wizard', 'woe', 'woman', 'women', 'wonder', 'wondered', 'wonderful', 'wonders', 'wondrous', 'wont', 'wood', 'wooded', 'wooden', 'woods', 'woodville', 'word', 'words', 'wore', 'work', 'worked', 'working', 'works', 'world', 'worldly', 'worlds', 'worm', 'worn', 'worse', 'worship', 'worst', 'worth', 'worthy', 'would', 'wound', 'wounded', 'wounds', 'wrapped', 'wrapt', 'wrath', 'wreck', 'wretch', 'wretched', 'wretchedness', 'wrinkled', 'wrist', 'write', 'writer', 'writers', 'writhing', 'writing', 'written', 'wrong', 'wrote', 'wrought', 'wyatt', 'x', 'yard', 'yards', 'yawned', 'yawning', 'ye', 'year', 'years', 'yellow', 'yes', 'yesterday', 'yet', 'yield', 'yielded', 'yog', 'york', 'young', 'younger', 'youth', 'youthful', 'yxu', 'zadok', 'zann', 'zeal', 'zenobia']\n"
     ]
    }
   ],
   "source": [
    "vectorizer = CountVectorizer(stop_words = stopwords_lst, analyzer='word', token_pattern= '[a-zA-Z]+', max_features = 5000)\n",
    "X = vectorizer.fit_transform(corpus)\n",
    "print(vectorizer.get_feature_names())"
   ]
  },
  {
   "cell_type": "code",
   "execution_count": 38,
   "id": "liked-solomon",
   "metadata": {},
   "outputs": [],
   "source": [
    "categories = ['EAP', 'HPL', 'MWS']"
   ]
  },
  {
   "cell_type": "code",
   "execution_count": 55,
   "id": "passive-flush",
   "metadata": {},
   "outputs": [
    {
     "name": "stdout",
     "output_type": "stream",
     "text": [
      "[('abandon', matrix([[1, 1, 1, ..., 1, 1, 1]]))]\n"
     ]
    }
   ],
   "source": [
    "freqs = zip(vectorizer.get_feature_names(), matrix.sum(axis=0))    \n",
    "# sort from largest to smallest\n",
    "print (sorted(freqs, key=lambda x: -x[1]))"
   ]
  },
  {
   "cell_type": "code",
   "execution_count": 56,
   "id": "spare-conviction",
   "metadata": {},
   "outputs": [],
   "source": [
    "corpus_string = df.text.str.cat(sep=' ')"
   ]
  },
  {
   "cell_type": "code",
   "execution_count": 58,
   "id": "stylish-nothing",
   "metadata": {},
   "outputs": [],
   "source": [
    "split_it = corpus_string.split()"
   ]
  },
  {
   "cell_type": "code",
   "execution_count": 63,
   "id": "nonprofit-dragon",
   "metadata": {},
   "outputs": [],
   "source": [
    "filtered = [word for word in split_it if word not in stopwords.words('english')]"
   ]
  },
  {
   "cell_type": "code",
   "execution_count": 64,
   "id": "noble-institute",
   "metadata": {},
   "outputs": [
    {
     "ename": "TypeError",
     "evalue": "'Counter' object is not callable",
     "output_type": "error",
     "traceback": [
      "\u001b[0;31m---------------------------------------------------------------------------\u001b[0m",
      "\u001b[0;31mTypeError\u001b[0m                                 Traceback (most recent call last)",
      "\u001b[0;32m<ipython-input-64-3002a9bed3ac>\u001b[0m in \u001b[0;36m<module>\u001b[0;34m\u001b[0m\n\u001b[0;32m----> 1\u001b[0;31m \u001b[0mCounter\u001b[0m \u001b[0;34m=\u001b[0m \u001b[0mCounter\u001b[0m\u001b[0;34m(\u001b[0m\u001b[0mfiltered\u001b[0m\u001b[0;34m)\u001b[0m\u001b[0;34m\u001b[0m\u001b[0;34m\u001b[0m\u001b[0m\n\u001b[0m\u001b[1;32m      2\u001b[0m \u001b[0;34m\u001b[0m\u001b[0m\n\u001b[1;32m      3\u001b[0m \u001b[0;31m# most_common() produces k frequently encountered\u001b[0m\u001b[0;34m\u001b[0m\u001b[0;34m\u001b[0m\u001b[0;34m\u001b[0m\u001b[0m\n\u001b[1;32m      4\u001b[0m \u001b[0;31m# input values and their respective counts.\u001b[0m\u001b[0;34m\u001b[0m\u001b[0;34m\u001b[0m\u001b[0;34m\u001b[0m\u001b[0m\n\u001b[1;32m      5\u001b[0m \u001b[0mmost_occur\u001b[0m \u001b[0;34m=\u001b[0m \u001b[0mCounter\u001b[0m\u001b[0;34m.\u001b[0m\u001b[0mmost_common\u001b[0m\u001b[0;34m(\u001b[0m\u001b[0;36m20\u001b[0m\u001b[0;34m)\u001b[0m\u001b[0;34m\u001b[0m\u001b[0;34m\u001b[0m\u001b[0m\n",
      "\u001b[0;31mTypeError\u001b[0m: 'Counter' object is not callable"
     ]
    }
   ],
   "source": [
    "Counter = Counter(filtered)\n",
    "  \n",
    "# most_common() produces k frequently encountered\n",
    "# input values and their respective counts.\n",
    "most_occur = Counter.most_common(20)\n",
    "  \n",
    "print(most_occur)"
   ]
  },
  {
   "cell_type": "code",
   "execution_count": null,
   "id": "congressional-journalist",
   "metadata": {},
   "outputs": [],
   "source": []
  }
 ],
 "metadata": {
  "kernelspec": {
   "display_name": "Python 3",
   "language": "python",
   "name": "python3"
  },
  "language_info": {
   "codemirror_mode": {
    "name": "ipython",
    "version": 3
   },
   "file_extension": ".py",
   "mimetype": "text/x-python",
   "name": "python",
   "nbconvert_exporter": "python",
   "pygments_lexer": "ipython3",
   "version": "3.8.2"
  }
 },
 "nbformat": 4,
 "nbformat_minor": 5
}
