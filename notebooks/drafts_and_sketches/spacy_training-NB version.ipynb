{
 "cells": [
  {
   "cell_type": "code",
   "execution_count": 12,
   "id": "featured-karaoke",
   "metadata": {},
   "outputs": [
    {
     "data": {
      "text/html": [
       "<div>\n",
       "<style scoped>\n",
       "    .dataframe tbody tr th:only-of-type {\n",
       "        vertical-align: middle;\n",
       "    }\n",
       "\n",
       "    .dataframe tbody tr th {\n",
       "        vertical-align: top;\n",
       "    }\n",
       "\n",
       "    .dataframe thead th {\n",
       "        text-align: right;\n",
       "    }\n",
       "</style>\n",
       "<table border=\"1\" class=\"dataframe\">\n",
       "  <thead>\n",
       "    <tr style=\"text-align: right;\">\n",
       "      <th></th>\n",
       "      <th>id</th>\n",
       "      <th>text</th>\n",
       "      <th>author</th>\n",
       "    </tr>\n",
       "  </thead>\n",
       "  <tbody>\n",
       "    <tr>\n",
       "      <th>0</th>\n",
       "      <td>id26305</td>\n",
       "      <td>This process, however, afforded me no means of...</td>\n",
       "      <td>EAP</td>\n",
       "    </tr>\n",
       "    <tr>\n",
       "      <th>1</th>\n",
       "      <td>id17569</td>\n",
       "      <td>It never once occurred to me that the fumbling...</td>\n",
       "      <td>HPL</td>\n",
       "    </tr>\n",
       "    <tr>\n",
       "      <th>2</th>\n",
       "      <td>id11008</td>\n",
       "      <td>In his left hand was a gold snuff box, from wh...</td>\n",
       "      <td>EAP</td>\n",
       "    </tr>\n",
       "    <tr>\n",
       "      <th>3</th>\n",
       "      <td>id27763</td>\n",
       "      <td>How lovely is spring As we looked from Windsor...</td>\n",
       "      <td>MWS</td>\n",
       "    </tr>\n",
       "    <tr>\n",
       "      <th>4</th>\n",
       "      <td>id12958</td>\n",
       "      <td>Finding nothing else, not even gold, the Super...</td>\n",
       "      <td>HPL</td>\n",
       "    </tr>\n",
       "  </tbody>\n",
       "</table>\n",
       "</div>"
      ],
      "text/plain": [
       "        id                                               text author\n",
       "0  id26305  This process, however, afforded me no means of...    EAP\n",
       "1  id17569  It never once occurred to me that the fumbling...    HPL\n",
       "2  id11008  In his left hand was a gold snuff box, from wh...    EAP\n",
       "3  id27763  How lovely is spring As we looked from Windsor...    MWS\n",
       "4  id12958  Finding nothing else, not even gold, the Super...    HPL"
      ]
     },
     "execution_count": 12,
     "metadata": {},
     "output_type": "execute_result"
    }
   ],
   "source": [
    "import pandas as pd\n",
    "import numpy as np\n",
    "import seaborn as sns\n",
    "import matplotlib.pyplot as plt\n",
    "import base64\n",
    "import string\n",
    "import re\n",
    "from collections import Counter\n",
    "from nltk.corpus import stopwords\n",
    "stopwords = stopwords.words('english')\n",
    "df = pd.read_csv('../data/train.csv')\n",
    "df.head()"
   ]
  },
  {
   "cell_type": "code",
   "execution_count": 13,
   "id": "included-orchestra",
   "metadata": {},
   "outputs": [
    {
     "data": {
      "text/plain": [
       "list"
      ]
     },
     "execution_count": 13,
     "metadata": {},
     "output_type": "execute_result"
    }
   ],
   "source": [
    "victorian_stopwords = [\"'s\", \"one\", \"may\", \"seem\", \"yet\", \"could\", \"thus\"]\n",
    "stopwords.append(\"'s\")\n",
    "stopwords.append(\"one\")\n",
    "type(stopwords)"
   ]
  },
  {
   "cell_type": "code",
   "execution_count": 14,
   "id": "congressional-genome",
   "metadata": {},
   "outputs": [
    {
     "data": {
      "text/plain": [
       "id        0\n",
       "text      0\n",
       "author    0\n",
       "dtype: int64"
      ]
     },
     "execution_count": 14,
     "metadata": {},
     "output_type": "execute_result"
    }
   ],
   "source": [
    "df.isnull().sum()"
   ]
  },
  {
   "cell_type": "markdown",
   "id": "romance-capability",
   "metadata": {},
   "source": [
    "The plot below shows the distribution of words among each represented author. "
   ]
  },
  {
   "cell_type": "code",
   "execution_count": 15,
   "id": "statewide-village",
   "metadata": {},
   "outputs": [
    {
     "data": {
      "image/png": "[encoded data removed]",
      "text/plain": [
       "<Figure size 576x288 with 1 Axes>"
      ]
     },
     "metadata": {},
     "output_type": "display_data"
    }
   ],
   "source": [
    "fig = plt.figure(figsize=(8,4))\n",
    "sns.set_theme(palette = 'rocket')\n",
    "sns.barplot(x = df['author'].unique(), y= df['author'].value_counts())\n",
    "\n",
    "plt.grid(color='w', linestyle='-', linewidth=1, zorder = 0)\n",
    "plt.xlabel('Author')\n",
    "plt.ylabel('Number of Lines')\n",
    "plt.title('Comparison of Lines by Author')\n",
    "    \n",
    "plt.show()"
   ]
  },
  {
   "cell_type": "code",
   "execution_count": 16,
   "id": "engaged-newcastle",
   "metadata": {},
   "outputs": [
    {
     "name": "stdout",
     "output_type": "stream",
     "text": [
      "Text sample: This panorama is indeed glorious, and I should rejoice in it but for the excess of its glory.\n",
      "Author of this text: EAP\n",
      "Training Data Shape: (13117, 3)\n",
      "Testing Data Shape: (6462, 3)\n"
     ]
    }
   ],
   "source": [
    "from sklearn.model_selection import train_test_split\n",
    "train, test = train_test_split(df, test_size=0.33, random_state=42)\n",
    "print('Text sample:', train['text'].iloc[0])\n",
    "print('Author of this text:', train['author'].iloc[0])\n",
    "print('Training Data Shape:', train.shape)\n",
    "print('Testing Data Shape:', test.shape)"
   ]
  },
  {
   "cell_type": "code",
   "execution_count": 17,
   "id": "exotic-phone",
   "metadata": {},
   "outputs": [
    {
     "name": "stdout",
     "output_type": "stream",
     "text": [
      "Processed 1000 out of 5313 documents.\n",
      "Processed 2000 out of 5313 documents.\n",
      "Processed 3000 out of 5313 documents.\n",
      "Processed 4000 out of 5313 documents.\n",
      "Processed 5000 out of 5313 documents.\n",
      "Processed 1000 out of 3783 documents.\n",
      "Processed 2000 out of 3783 documents.\n",
      "Processed 3000 out of 3783 documents.\n",
      "Processed 1000 out of 4021 documents.\n",
      "Processed 2000 out of 4021 documents.\n",
      "Processed 3000 out of 4021 documents.\n",
      "Processed 4000 out of 4021 documents.\n"
     ]
    }
   ],
   "source": [
    "import spacy\n",
    "nlp = spacy.load('en_core_web_sm')\n",
    "punctuations = string.punctuation\n",
    "def cleanup_text(docs, logging=True):\n",
    "    texts = []\n",
    "    counter = 1\n",
    "    for doc in docs:\n",
    "        if counter % 1000 == 0 and logging:\n",
    "            print(\"Processed %d out of %d documents.\" % (counter, len(docs)))\n",
    "        counter += 1\n",
    "        doc = nlp(doc, disable=['parser', 'ner'])\n",
    "        tokens = [tok.lemma_.lower().strip() for tok in doc if tok.lemma_ != '-PRON-']\n",
    "        tokens = [tok for tok in tokens if tok not in stopwords and tok not in punctuations]\n",
    "        tokens = ' '.join(tokens)\n",
    "        texts.append(tokens)\n",
    "    return pd.Series(texts)\n",
    "EAP_text = [text for text in train[train['author'] == 'EAP']['text']]\n",
    "HPL_text = [text for text in train[train['author'] == 'HPL']['text']]\n",
    "MWS_text = [text for text in train[train['author'] == 'MWS']['text']]\n",
    "EAP_clean = cleanup_text(EAP_text)\n",
    "EAP_clean = ' '.join(EAP_clean).split()\n",
    "HPL_clean = cleanup_text(HPL_text)\n",
    "HPL_clean = ' '.join(HPL_clean).split()\n",
    "MWS_clean = cleanup_text(MWS_text)\n",
    "MWS_clean = ' '.join(MWS_clean).split()\n",
    "EAP_counts = Counter(EAP_clean)\n",
    "HPL_counts = Counter(HPL_clean)\n",
    "MWS_counts = Counter(MWS_clean)\n",
    "EAP_common_words = [word[0] for word in EAP_counts.most_common(20)]\n",
    "EAP_common_counts = [word[1] for word in EAP_counts.most_common(20)]\n"
   ]
  },
  {
   "cell_type": "code",
   "execution_count": 18,
   "id": "forty-missile",
   "metadata": {},
   "outputs": [
    {
     "data": {
      "image/png": "[encoded data removed]",
      "text/plain": [
       "<Figure size 1296x432 with 1 Axes>"
      ]
     },
     "metadata": {},
     "output_type": "display_data"
    }
   ],
   "source": [
    "fig = plt.figure(figsize=(18,6))\n",
    "\n",
    "sns.barplot(x=EAP_common_words, y=EAP_common_counts, palette = 'rocket')\n",
    "plt.title('Most Common Words used in short stories written by Edgar Allan Poe')\n",
    "plt.show()"
   ]
  },
  {
   "cell_type": "code",
   "execution_count": 19,
   "id": "diverse-banks",
   "metadata": {},
   "outputs": [
    {
     "data": {
      "image/png": "[encoded data removed]",
      "text/plain": [
       "<Figure size 1296x432 with 1 Axes>"
      ]
     },
     "metadata": {},
     "output_type": "display_data"
    }
   ],
   "source": [
    "HPL_common_words = [word[0] for word in HPL_counts.most_common(20)]\n",
    "HPL_common_counts = [word[1] for word in HPL_counts.most_common(20)]\n",
    "fig = plt.figure(figsize=(18,6))\n",
    "sns.barplot(x=HPL_common_words, y=HPL_common_counts, palette='rocket')\n",
    "plt.title('Most Common Words used in the short stories of H.P. Lovecraft')\n",
    "plt.show()\n",
    "#plt.savefig(f'images/{author}_words.png')"
   ]
  },
  {
   "cell_type": "code",
   "execution_count": 20,
   "id": "embedded-alarm",
   "metadata": {},
   "outputs": [
    {
     "data": {
      "image/png": "[encoded data removed]",
      "text/plain": [
       "<Figure size 1296x432 with 1 Axes>"
      ]
     },
     "metadata": {},
     "output_type": "display_data"
    }
   ],
   "source": [
    "MWS_common_words = [word[0] for word in MWS_counts.most_common(20)]\n",
    "MWS_common_counts = [word[1] for word in MWS_counts.most_common(20)]\n",
    "fig = plt.figure(figsize=(18,6))\n",
    "sns.barplot(x=MWS_common_words, y=MWS_common_counts, palette = 'rocket')\n",
    "plt.title('Most Common Words used in the short stories of Mary Wallstonecraft Shelley')\n",
    "plt.show()"
   ]
  },
  {
   "cell_type": "code",
   "execution_count": 21,
   "id": "coordinated-night",
   "metadata": {},
   "outputs": [
    {
     "name": "stderr",
     "output_type": "stream",
     "text": [
      "/opt/anaconda3/lib/python3.8/site-packages/sklearn/utils/deprecation.py:144: FutureWarning: The sklearn.feature_extraction.stop_words module is  deprecated in version 0.22 and will be removed in version 0.24. The corresponding classes / functions should instead be imported from sklearn.feature_extraction.text. Anything that cannot be imported from sklearn.feature_extraction.text is now part of the private API.\n",
      "  warnings.warn(message, FutureWarning)\n"
     ]
    }
   ],
   "source": [
    "from sklearn.feature_extraction.text import CountVectorizer\n",
    "from sklearn.base import TransformerMixin\n",
    "from sklearn.pipeline import Pipeline\n",
    "from sklearn.svm import LinearSVC\n",
    "from sklearn.feature_extraction.stop_words import ENGLISH_STOP_WORDS\n",
    "from sklearn.metrics import accuracy_score\n",
    "from nltk.corpus import stopwords\n",
    "import string\n",
    "import re\n",
    "import spacy\n",
    "spacy.load('en')\n",
    "from spacy.lang.en import English\n",
    "parser = English()"
   ]
  },
  {
   "cell_type": "code",
   "execution_count": 22,
   "id": "practical-offset",
   "metadata": {},
   "outputs": [],
   "source": [
    "STOPLIST = set(stopwords.words('english') + list(ENGLISH_STOP_WORDS))\n",
    "SYMBOLS = \" \".join(string.punctuation).split(\" \") + [\"-\", \"...\", \"”\", \"”\"]\n",
    "class CleanTextTransformer(TransformerMixin):\n",
    "   def transform(self, X, **transform_params):\n",
    "        return [cleanText(text) for text in X]\n",
    "   def fit(self, X, y=None, **fit_params):\n",
    "        return self\n",
    "def get_params(self, deep=True):\n",
    "        return {}\n",
    "    \n",
    "def cleanText(text):\n",
    "    text = text.strip().replace(\"\\n\", \" \").replace(\"\\r\", \" \")\n",
    "    text = text.lower()\n",
    "    return text\n",
    "def tokenizeText(sample):\n",
    "    tokens = parser(sample)\n",
    "    lemmas = []\n",
    "    for tok in tokens:\n",
    "        lemmas.append(tok.lemma_.lower().strip() if tok.lemma_ != \"-PRON-\" else tok.lower_)\n",
    "    tokens = lemmas\n",
    "    tokens = [tok for tok in tokens if tok not in STOPLIST]\n",
    "    tokens = [tok for tok in tokens if tok not in SYMBOLS]\n",
    "    return tokens"
   ]
  },
  {
   "cell_type": "code",
   "execution_count": 23,
   "id": "cubic-namibia",
   "metadata": {},
   "outputs": [],
   "source": [
    "from sklearn.naive_bayes import MultinomialNB\n",
    "def printNMostInformative(vectorizer, clf, N):\n",
    "    feature_names = vectorizer.get_feature_names()\n",
    "    coefs_with_fns = sorted(zip(clf.coef_[0], feature_names))\n",
    "    topClass1 = coefs_with_fns[:N]\n",
    "    topClass2 = coefs_with_fns[:-(N + 1):-1]\n",
    "    print(\"Class 1 best: \")\n",
    "    for feat in topClass1:\n",
    "        print(feat)\n",
    "    print(\"Class 2 best: \")\n",
    "    for feat in topClass2:\n",
    "        \n",
    "        print(feat)\n",
    "    print( \"Class 3 best: \")\n",
    "    for feat in topClass3:\n",
    "        print(feat)\n",
    "vectorizer = CountVectorizer(tokenizer=tokenizeText, ngram_range=(1,1))\n",
    "clf = MultinomialNB()\n"
   ]
  },
  {
   "cell_type": "code",
   "execution_count": 24,
   "id": "distinct-limitation",
   "metadata": {},
   "outputs": [],
   "source": [
    "test_unlabeled = pd.read_csv('../data/test.csv')"
   ]
  },
  {
   "cell_type": "code",
   "execution_count": null,
   "id": "mineral-british",
   "metadata": {},
   "outputs": [],
   "source": []
  },
  {
   "cell_type": "code",
   "execution_count": 26,
   "id": "cardiac-jungle",
   "metadata": {},
   "outputs": [
    {
     "name": "stdout",
     "output_type": "stream",
     "text": [
      "accuracy: 0.8081089445991952\n",
      "Top 20 features used to predict: \n",
      "Class 1 best: \n",
      "(-11.170125248852257, \"'em\")\n",
      "(-11.170125248852257, '100')\n",
      "(-11.170125248852257, '1000')\n",
      "(-11.170125248852257, '13')\n",
      "(-11.170125248852257, '17')\n",
      "(-11.170125248852257, '18')\n",
      "(-11.170125248852257, '19')\n",
      "(-11.170125248852257, 'a.d')\n",
      "(-11.170125248852257, 'abaout')\n",
      "(-11.170125248852257, 'abashment')\n",
      "(-11.170125248852257, 'abate')\n",
      "(-11.170125248852257, 'abatement')\n",
      "(-11.170125248852257, 'abbey')\n",
      "(-11.170125248852257, 'abdicate')\n",
      "(-11.170125248852257, 'abdul')\n",
      "(-11.170125248852257, 'aberrant')\n",
      "(-11.170125248852257, 'abhor')\n",
      "(-11.170125248852257, 'abhorrent')\n",
      "(-11.170125248852257, 'abigail')\n",
      "(-11.170125248852257, 'abijah')\n",
      "Class 2 best: \n",
      "(-5.034560357770518, 'say')\n",
      "(-5.386300066522519, 'little')\n",
      "(-5.398684125722241, 'make')\n",
      "(-5.640696161340833, 'good')\n",
      "(-5.732045939929061, 'man')\n",
      "(-5.832587169150939, 'time')\n",
      "(-5.861857551451052, 'long')\n",
      "(-5.9022670897889284, 'great')\n",
      "(-5.912629876824475, 'know')\n",
      "(-5.928378233792614, 'eye')\n",
      "(-5.977168397962046, 'think')\n",
      "(-6.016833654354477, 'day')\n",
      "(-6.052131436435501, '\\ufeff1')\n",
      "(-6.10753021582529, 'come')\n",
      "(-6.1661789429067975, 'thing')\n",
      "(-6.20728061859235, 'far')\n",
      "(-6.250144323024132, 'word')\n",
      "(-6.310312844490585, 'mean')\n",
      "(-6.3259381623936655, 'look')\n",
      "(-6.3259381623936655, 'like')\n"
     ]
    }
   ],
   "source": [
    "\n",
    "pipe = Pipeline([('cleanText', CleanTextTransformer()), ('vectorizer', vectorizer), ('clf', clf)])\n",
    "# data\n",
    "train1 = train['text'].tolist()\n",
    "labelsTrain1 = train['author'].tolist()\n",
    "test1 = test['text'].tolist()\n",
    "labelsTest1 = test['author'].tolist()\n",
    "# train\n",
    "pipe.fit(train1, labelsTrain1)\n",
    "# test\n",
    "preds = pipe.predict(test1)\n",
    "print(\"accuracy:\", accuracy_score(labelsTest1, preds))\n",
    "print(\"Top 20 features used to predict: \")\n",
    "\n",
    "printNMostInformative(vectorizer, clf, 20)\n",
    "pipe = Pipeline([('cleanText', CleanTextTransformer()), ('vectorizer', vectorizer)])\n",
    "transform = pipe.fit_transform(train1, labelsTrain1)\n",
    "vocab = vectorizer.get_feature_names()\n",
    "for i in range(len(train1)):\n",
    "    s = \"\"\n",
    "    indexIntoVocab = transform.indices[transform.indptr[i]:transform.indptr[i+1]]\n",
    "    numOccurences = transform.data[transform.indptr[i]:transform.indptr[i+1]]\n",
    "    for idx, num in zip(indexIntoVocab, numOccurences):\n",
    "        s += str((vocab[idx], num))"
   ]
  },
  {
   "cell_type": "code",
   "execution_count": 27,
   "id": "prepared-fault",
   "metadata": {},
   "outputs": [
    {
     "name": "stdout",
     "output_type": "stream",
     "text": [
      "              precision    recall  f1-score   support\n",
      "\n",
      "         EAP       0.82      0.79      0.81      2587\n",
      "         HPL       0.82      0.79      0.81      1852\n",
      "         MWS       0.78      0.84      0.81      2023\n",
      "\n",
      "    accuracy                           0.81      6462\n",
      "   macro avg       0.81      0.81      0.81      6462\n",
      "weighted avg       0.81      0.81      0.81      6462\n",
      "\n"
     ]
    }
   ],
   "source": [
    "from sklearn import metrics\n",
    "print(metrics.classification_report(labelsTest1, preds, \n",
    "                                    target_names=df['author'].unique()))"
   ]
  },
  {
   "cell_type": "code",
   "execution_count": null,
   "id": "current-mercury",
   "metadata": {},
   "outputs": [],
   "source": []
  }
 ],
 "metadata": {
  "kernelspec": {
   "display_name": "Python 3",
   "language": "python",
   "name": "python3"
  },
  "language_info": {
   "codemirror_mode": {
    "name": "ipython",
    "version": 3
   },
   "file_extension": ".py",
   "mimetype": "text/x-python",
   "name": "python",
   "nbconvert_exporter": "python",
   "pygments_lexer": "ipython3",
   "version": "3.8.2"
  }
 },
 "nbformat": 4,
 "nbformat_minor": 5
}
