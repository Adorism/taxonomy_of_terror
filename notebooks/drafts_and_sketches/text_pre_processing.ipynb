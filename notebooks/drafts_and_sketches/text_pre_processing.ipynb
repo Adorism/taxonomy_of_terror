{
 "cells": [
  {
   "cell_type": "code",
   "execution_count": 1,
   "id": "primary-replacement",
   "metadata": {},
   "outputs": [],
   "source": [
    "import numpy as np\n",
    "import spacy\n",
    "import pandas as pd\n",
    "\n",
    "from sklearn.datasets import fetch_20newsgroups\n",
    "from sklearn import decomposition\n",
    "from scipy import linalg\n",
    "import matplotlib.pyplot as plt\n",
    "\n",
    "#from spacy.lemmatizer import Lemmatizer\n",
    "#lemmatizer = Lemmatizer()"
   ]
  },
  {
   "cell_type": "code",
   "execution_count": 2,
   "id": "related-license",
   "metadata": {},
   "outputs": [],
   "source": [
    "%matplotlib inline\n",
    "np.set_printoptions(suppress=True)"
   ]
  },
  {
   "cell_type": "code",
   "execution_count": 3,
   "id": "neutral-judgment",
   "metadata": {},
   "outputs": [],
   "source": [
    "df = pd.read_csv('../data/train.csv')"
   ]
  },
  {
   "cell_type": "code",
   "execution_count": 4,
   "id": "temporal-replacement",
   "metadata": {},
   "outputs": [
    {
     "data": {
      "text/html": [
       "<div>\n",
       "<style scoped>\n",
       "    .dataframe tbody tr th:only-of-type {\n",
       "        vertical-align: middle;\n",
       "    }\n",
       "\n",
       "    .dataframe tbody tr th {\n",
       "        vertical-align: top;\n",
       "    }\n",
       "\n",
       "    .dataframe thead th {\n",
       "        text-align: right;\n",
       "    }\n",
       "</style>\n",
       "<table border=\"1\" class=\"dataframe\">\n",
       "  <thead>\n",
       "    <tr style=\"text-align: right;\">\n",
       "      <th></th>\n",
       "      <th>id</th>\n",
       "      <th>text</th>\n",
       "      <th>author</th>\n",
       "    </tr>\n",
       "  </thead>\n",
       "  <tbody>\n",
       "    <tr>\n",
       "      <th>0</th>\n",
       "      <td>id26305</td>\n",
       "      <td>This process, however, afforded me no means of...</td>\n",
       "      <td>EAP</td>\n",
       "    </tr>\n",
       "    <tr>\n",
       "      <th>1</th>\n",
       "      <td>id17569</td>\n",
       "      <td>It never once occurred to me that the fumbling...</td>\n",
       "      <td>HPL</td>\n",
       "    </tr>\n",
       "    <tr>\n",
       "      <th>2</th>\n",
       "      <td>id11008</td>\n",
       "      <td>In his left hand was a gold snuff box, from wh...</td>\n",
       "      <td>EAP</td>\n",
       "    </tr>\n",
       "    <tr>\n",
       "      <th>3</th>\n",
       "      <td>id27763</td>\n",
       "      <td>How lovely is spring As we looked from Windsor...</td>\n",
       "      <td>MWS</td>\n",
       "    </tr>\n",
       "    <tr>\n",
       "      <th>4</th>\n",
       "      <td>id12958</td>\n",
       "      <td>Finding nothing else, not even gold, the Super...</td>\n",
       "      <td>HPL</td>\n",
       "    </tr>\n",
       "  </tbody>\n",
       "</table>\n",
       "</div>"
      ],
      "text/plain": [
       "        id                                               text author\n",
       "0  id26305  This process, however, afforded me no means of...    EAP\n",
       "1  id17569  It never once occurred to me that the fumbling...    HPL\n",
       "2  id11008  In his left hand was a gold snuff box, from wh...    EAP\n",
       "3  id27763  How lovely is spring As we looked from Windsor...    MWS\n",
       "4  id12958  Finding nothing else, not even gold, the Super...    HPL"
      ]
     },
     "execution_count": 4,
     "metadata": {},
     "output_type": "execute_result"
    }
   ],
   "source": [
    "df.head()"
   ]
  },
  {
   "cell_type": "code",
   "execution_count": 5,
   "id": "superior-cruise",
   "metadata": {},
   "outputs": [
    {
     "data": {
      "text/plain": [
       "0        This process, however, afforded me no means of...\n",
       "1        It never once occurred to me that the fumbling...\n",
       "2        In his left hand was a gold snuff box, from wh...\n",
       "3        How lovely is spring As we looked from Windsor...\n",
       "4        Finding nothing else, not even gold, the Super...\n",
       "                               ...                        \n",
       "19574    I could have fancied, while I looked at it, th...\n",
       "19575    The lids clenched themselves together as if in...\n",
       "19576    Mais il faut agir that is to say, a Frenchman ...\n",
       "19577    For an item of news like this, it strikes us i...\n",
       "19578    He laid a gnarled claw on my shoulder, and it ...\n",
       "Name: text, Length: 19579, dtype: object"
      ]
     },
     "execution_count": 5,
     "metadata": {},
     "output_type": "execute_result"
    }
   ],
   "source": [
    "df['text']"
   ]
  },
  {
   "cell_type": "code",
   "execution_count": 6,
   "id": "juvenile-exclusion",
   "metadata": {},
   "outputs": [],
   "source": [
    "corpus = df['text'].values"
   ]
  },
  {
   "cell_type": "code",
   "execution_count": 7,
   "id": "arranged-syntax",
   "metadata": {},
   "outputs": [
    {
     "data": {
      "text/plain": [
       "array(['This process, however, afforded me no means of ascertaining the dimensions of my dungeon; as I might make its circuit, and return to the point whence I set out, without being aware of the fact; so perfectly uniform seemed the wall.',\n",
       "       'It never once occurred to me that the fumbling might be a mere mistake.',\n",
       "       'In his left hand was a gold snuff box, from which, as he capered down the hill, cutting all manner of fantastic steps, he took snuff incessantly with an air of the greatest possible self satisfaction.',\n",
       "       ...,\n",
       "       'Mais il faut agir that is to say, a Frenchman never faints outright.',\n",
       "       'For an item of news like this, it strikes us it was very coolly received.\"',\n",
       "       'He laid a gnarled claw on my shoulder, and it seemed to me that its shaking was not altogether that of mirth.'],\n",
       "      dtype=object)"
      ]
     },
     "execution_count": 7,
     "metadata": {},
     "output_type": "execute_result"
    }
   ],
   "source": [
    "corpus"
   ]
  },
  {
   "cell_type": "code",
   "execution_count": 8,
   "id": "hydraulic-spanish",
   "metadata": {},
   "outputs": [],
   "source": [
    "eap_df = df[df['author'] == 'EAP']\n",
    "poe_corpus = eap_df['text'].values"
   ]
  },
  {
   "cell_type": "code",
   "execution_count": 9,
   "id": "athletic-thomson",
   "metadata": {},
   "outputs": [
    {
     "data": {
      "text/plain": [
       "array(['This process, however, afforded me no means of ascertaining the dimensions of my dungeon; as I might make its circuit, and return to the point whence I set out, without being aware of the fact; so perfectly uniform seemed the wall.',\n",
       "       'In his left hand was a gold snuff box, from which, as he capered down the hill, cutting all manner of fantastic steps, he took snuff incessantly with an air of the greatest possible self satisfaction.',\n",
       "       'The astronomer, perhaps, at this point, took refuge in the suggestion of non luminosity; and here analogy was suddenly let fall.',\n",
       "       ..., 'The lids clenched themselves together as if in a spasm.',\n",
       "       'Mais il faut agir that is to say, a Frenchman never faints outright.',\n",
       "       'For an item of news like this, it strikes us it was very coolly received.\"'],\n",
       "      dtype=object)"
      ]
     },
     "execution_count": 9,
     "metadata": {},
     "output_type": "execute_result"
    }
   ],
   "source": [
    "poe_corpus"
   ]
  },
  {
   "cell_type": "code",
   "execution_count": 10,
   "id": "patent-fifth",
   "metadata": {},
   "outputs": [],
   "source": [
    "hpl_df = df[df['author'] == 'HPL']\n",
    "lovecraft_corpus = hpl_df['text'].values"
   ]
  },
  {
   "cell_type": "code",
   "execution_count": 11,
   "id": "alien-bachelor",
   "metadata": {},
   "outputs": [
    {
     "data": {
      "text/plain": [
       "array(['It never once occurred to me that the fumbling might be a mere mistake.',\n",
       "       'Finding nothing else, not even gold, the Superintendent abandoned his attempts; but a perplexed look occasionally steals over his countenance as he sits thinking at his desk.',\n",
       "       'Herbert West needed fresh bodies because his life work was the reanimation of the dead.',\n",
       "       ...,\n",
       "       'Average people in society and business New England\\'s traditional \"salt of the earth\" gave an almost completely negative result, though scattered cases of uneasy but formless nocturnal impressions appear here and there, always between March d and April nd the period of young Wilcox\\'s delirium.',\n",
       "       'My watch was still going, and told me that the hour was past noon.',\n",
       "       'He laid a gnarled claw on my shoulder, and it seemed to me that its shaking was not altogether that of mirth.'],\n",
       "      dtype=object)"
      ]
     },
     "execution_count": 11,
     "metadata": {},
     "output_type": "execute_result"
    }
   ],
   "source": [
    "lovecraft_corpus"
   ]
  },
  {
   "cell_type": "code",
   "execution_count": 12,
   "id": "vocational-worker",
   "metadata": {},
   "outputs": [],
   "source": [
    "mws_df = df[df['author'] == 'MWS']\n",
    "shelley_corpus = mws_df['text'].values"
   ]
  },
  {
   "cell_type": "code",
   "execution_count": 13,
   "id": "unsigned-completion",
   "metadata": {},
   "outputs": [
    {
     "data": {
      "text/plain": [
       "array(['How lovely is spring As we looked from Windsor Terrace on the sixteen fertile counties spread beneath, speckled by happy cottages and wealthier towns, all looked as in former years, heart cheering and fair.',\n",
       "       'A youth passed in solitude, my best years spent under your gentle and feminine fosterage, has so refined the groundwork of my character that I cannot overcome an intense distaste to the usual brutality exercised on board ship: I have never believed it to be necessary, and when I heard of a mariner equally noted for his kindliness of heart and the respect and obedience paid to him by his crew, I felt myself peculiarly fortunate in being able to secure his services.',\n",
       "       'I confess that neither the structure of languages, nor the code of governments, nor the politics of various states possessed attractions for me.',\n",
       "       ...,\n",
       "       'Once my fancy was soothed with dreams of virtue, of fame, and of enjoyment.',\n",
       "       'Nay, you may have met with another whom you may love; and considering yourself as bound in honour to Elizabeth, this struggle may occasion the poignant misery which you appear to feel.\" \"My dear father, reassure yourself.',\n",
       "       'Stress of weather drove us up the Adriatic Gulph; and, our vessel being hardly fitted to weather a storm, we took refuge in the port of Ancona.'],\n",
       "      dtype=object)"
      ]
     },
     "execution_count": 13,
     "metadata": {},
     "output_type": "execute_result"
    }
   ],
   "source": [
    "shelley_corpus"
   ]
  },
  {
   "cell_type": "code",
   "execution_count": 21,
   "id": "offshore-heath",
   "metadata": {},
   "outputs": [],
   "source": [
    "from sklearn.feature_extraction.text import CountVectorizer"
   ]
  },
  {
   "cell_type": "code",
   "execution_count": 28,
   "id": "after-saudi",
   "metadata": {},
   "outputs": [],
   "source": [
    "vectorizer = CountVectorizer()\n",
    "\n",
    "X = vectorizer.fit_transform(poe_corpus)\n",
    "poe_vocabulary = vectorizer.get_feature_names()\n",
    "\n"
   ]
  },
  {
   "cell_type": "code",
   "execution_count": 29,
   "id": "chief-victor",
   "metadata": {},
   "outputs": [
    {
     "data": {
      "text/plain": [
       "15261"
      ]
     },
     "execution_count": 29,
     "metadata": {},
     "output_type": "execute_result"
    }
   ],
   "source": [
    "len(poe_vocabulary)"
   ]
  },
  {
   "cell_type": "code",
   "execution_count": 30,
   "id": "signal-header",
   "metadata": {},
   "outputs": [],
   "source": [
    "vectorizer = CountVectorizer()\n",
    "\n",
    "X2 = vectorizer.fit_transform(lovecraft_corpus)\n",
    "lovecraft_vocabulary = vectorizer.get_feature_names()\n"
   ]
  },
  {
   "cell_type": "code",
   "execution_count": 31,
   "id": "touched-punch",
   "metadata": {},
   "outputs": [
    {
     "data": {
      "text/plain": [
       "14504"
      ]
     },
     "execution_count": 31,
     "metadata": {},
     "output_type": "execute_result"
    }
   ],
   "source": [
    "len(lovecraft_vocabulary)"
   ]
  },
  {
   "cell_type": "code",
   "execution_count": 32,
   "id": "purple-religion",
   "metadata": {},
   "outputs": [],
   "source": [
    "vectorizer = CountVectorizer()\n",
    "\n",
    "X2 = vectorizer.fit_transform(shelley_corpus)\n",
    "shelley_vocabulary = vectorizer.get_feature_names()"
   ]
  },
  {
   "cell_type": "code",
   "execution_count": 33,
   "id": "improving-delhi",
   "metadata": {},
   "outputs": [
    {
     "data": {
      "text/plain": [
       "11515"
      ]
     },
     "execution_count": 33,
     "metadata": {},
     "output_type": "execute_result"
    }
   ],
   "source": [
    "len(shelley_vocabulary)"
   ]
  },
  {
   "cell_type": "code",
   "execution_count": null,
   "id": "aware-empire",
   "metadata": {},
   "outputs": [],
   "source": []
  }
 ],
 "metadata": {
  "kernelspec": {
   "display_name": "Python 3",
   "language": "python",
   "name": "python3"
  },
  "language_info": {
   "codemirror_mode": {
    "name": "ipython",
    "version": 3
   },
   "file_extension": ".py",
   "mimetype": "text/x-python",
   "name": "python",
   "nbconvert_exporter": "python",
   "pygments_lexer": "ipython3",
   "version": "3.8.2"
  }
 },
 "nbformat": 4,
 "nbformat_minor": 5
}
