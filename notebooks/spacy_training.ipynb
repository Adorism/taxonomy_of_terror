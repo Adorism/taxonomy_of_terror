{
 "cells": [
  {
   "cell_type": "code",
   "execution_count": 1,
   "id": "featured-karaoke",
   "metadata": {},
   "outputs": [
    {
     "data": {
      "text/html": [
       "<div>\n",
       "<style scoped>\n",
       "    .dataframe tbody tr th:only-of-type {\n",
       "        vertical-align: middle;\n",
       "    }\n",
       "\n",
       "    .dataframe tbody tr th {\n",
       "        vertical-align: top;\n",
       "    }\n",
       "\n",
       "    .dataframe thead th {\n",
       "        text-align: right;\n",
       "    }\n",
       "</style>\n",
       "<table border=\"1\" class=\"dataframe\">\n",
       "  <thead>\n",
       "    <tr style=\"text-align: right;\">\n",
       "      <th></th>\n",
       "      <th>id</th>\n",
       "      <th>text</th>\n",
       "      <th>author</th>\n",
       "    </tr>\n",
       "  </thead>\n",
       "  <tbody>\n",
       "    <tr>\n",
       "      <th>0</th>\n",
       "      <td>id26305</td>\n",
       "      <td>This process, however, afforded me no means of...</td>\n",
       "      <td>EAP</td>\n",
       "    </tr>\n",
       "    <tr>\n",
       "      <th>1</th>\n",
       "      <td>id17569</td>\n",
       "      <td>It never once occurred to me that the fumbling...</td>\n",
       "      <td>HPL</td>\n",
       "    </tr>\n",
       "    <tr>\n",
       "      <th>2</th>\n",
       "      <td>id11008</td>\n",
       "      <td>In his left hand was a gold snuff box, from wh...</td>\n",
       "      <td>EAP</td>\n",
       "    </tr>\n",
       "    <tr>\n",
       "      <th>3</th>\n",
       "      <td>id27763</td>\n",
       "      <td>How lovely is spring As we looked from Windsor...</td>\n",
       "      <td>MWS</td>\n",
       "    </tr>\n",
       "    <tr>\n",
       "      <th>4</th>\n",
       "      <td>id12958</td>\n",
       "      <td>Finding nothing else, not even gold, the Super...</td>\n",
       "      <td>HPL</td>\n",
       "    </tr>\n",
       "  </tbody>\n",
       "</table>\n",
       "</div>"
      ],
      "text/plain": [
       "        id                                               text author\n",
       "0  id26305  This process, however, afforded me no means of...    EAP\n",
       "1  id17569  It never once occurred to me that the fumbling...    HPL\n",
       "2  id11008  In his left hand was a gold snuff box, from wh...    EAP\n",
       "3  id27763  How lovely is spring As we looked from Windsor...    MWS\n",
       "4  id12958  Finding nothing else, not even gold, the Super...    HPL"
      ]
     },
     "execution_count": 1,
     "metadata": {},
     "output_type": "execute_result"
    }
   ],
   "source": [
    "import pandas as pd\n",
    "import numpy as np\n",
    "import seaborn as sns\n",
    "import matplotlib.pyplot as plt\n",
    "import base64\n",
    "import string\n",
    "import re\n",
    "from collections import Counter\n",
    "from nltk.corpus import stopwords\n",
    "stopwords = stopwords.words('english')\n",
    "df = pd.read_csv('../data/train.csv')\n",
    "df.head()"
   ]
  },
  {
   "cell_type": "code",
   "execution_count": 16,
   "id": "included-orchestra",
   "metadata": {},
   "outputs": [
    {
     "ename": "AttributeError",
     "evalue": "'WordListCorpusReader' object has no attribute 'append'",
     "output_type": "error",
     "traceback": [
      "\u001b[0;31m---------------------------------------------------------------------------\u001b[0m",
      "\u001b[0;31mAttributeError\u001b[0m                            Traceback (most recent call last)",
      "\u001b[0;32m<ipython-input-16-226685d324d6>\u001b[0m in \u001b[0;36m<module>\u001b[0;34m\u001b[0m\n\u001b[1;32m      1\u001b[0m \u001b[0mvictorian_stopwords\u001b[0m \u001b[0;34m=\u001b[0m \u001b[0;34m[\u001b[0m\u001b[0;34m\"one\"\u001b[0m\u001b[0;34m,\u001b[0m \u001b[0;34m\"may\"\u001b[0m\u001b[0;34m,\u001b[0m \u001b[0;34m\"seem\"\u001b[0m\u001b[0;34m,\u001b[0m \u001b[0;34m\"yet\"\u001b[0m\u001b[0;34m,\u001b[0m \u001b[0;34m\"could\"\u001b[0m\u001b[0;34m,\u001b[0m \u001b[0;34m\"thus\"\u001b[0m\u001b[0;34m]\u001b[0m\u001b[0;34m\u001b[0m\u001b[0;34m\u001b[0m\u001b[0m\n\u001b[0;32m----> 2\u001b[0;31m \u001b[0mstopwords\u001b[0m\u001b[0;34m.\u001b[0m\u001b[0mappend\u001b[0m\u001b[0;34m(\u001b[0m\u001b[0mvictorian_stopwords\u001b[0m\u001b[0;34m)\u001b[0m\u001b[0;34m\u001b[0m\u001b[0;34m\u001b[0m\u001b[0m\n\u001b[0m",
      "\u001b[0;31mAttributeError\u001b[0m: 'WordListCorpusReader' object has no attribute 'append'"
     ]
    }
   ],
   "source": [
    "victorian_stopwords = [\"one\", \"may\", \"seem\", \"yet\", \"could\", \"thus\"]\n",
    "stopwords.append(victorian_stopwords)"
   ]
  },
  {
   "cell_type": "code",
   "execution_count": 3,
   "id": "congressional-genome",
   "metadata": {},
   "outputs": [
    {
     "data": {
      "text/plain": [
       "id        0\n",
       "text      0\n",
       "author    0\n",
       "dtype: int64"
      ]
     },
     "execution_count": 3,
     "metadata": {},
     "output_type": "execute_result"
    }
   ],
   "source": [
    "df.isnull().sum()"
   ]
  },
  {
   "cell_type": "markdown",
   "id": "romance-capability",
   "metadata": {},
   "source": [
    "The plot below shows the distribution of words among each represented author. "
   ]
  },
  {
   "cell_type": "code",
   "execution_count": 4,
   "id": "statewide-village",
   "metadata": {},
   "outputs": [
    {
     "data": {
      "image/png": "[encoded data removed]",
      "text/plain": [
       "<Figure size 576x288 with 1 Axes>"
      ]
     },
     "metadata": {
      "needs_background": "light"
     },
     "output_type": "display_data"
    }
   ],
   "source": [
    "fig = plt.figure(figsize=(8,4))\n",
    "sns.barplot(x = df['author'].unique(), y= df['author'].value_counts())\n",
    "plt.show()"
   ]
  },
  {
   "cell_type": "code",
   "execution_count": 5,
   "id": "engaged-newcastle",
   "metadata": {},
   "outputs": [
    {
     "name": "stdout",
     "output_type": "stream",
     "text": [
      "Text sample: This panorama is indeed glorious, and I should rejoice in it but for the excess of its glory.\n",
      "Author of this text: EAP\n",
      "Training Data Shape: (13117, 3)\n",
      "Testing Data Shape: (6462, 3)\n"
     ]
    }
   ],
   "source": [
    "from sklearn.model_selection import train_test_split\n",
    "train, test = train_test_split(df, test_size=0.33, random_state=42)\n",
    "print('Text sample:', train['text'].iloc[0])\n",
    "print('Author of this text:', train['author'].iloc[0])\n",
    "print('Training Data Shape:', train.shape)\n",
    "print('Testing Data Shape:', test.shape)"
   ]
  },
  {
   "cell_type": "code",
   "execution_count": 6,
   "id": "exotic-phone",
   "metadata": {},
   "outputs": [
    {
     "data": {
      "image/png": "[encoded data removed]",
      "text/plain": [
       "<Figure size 1296x432 with 1 Axes>"
      ]
     },
     "metadata": {
      "needs_background": "light"
     },
     "output_type": "display_data"
    }
   ],
   "source": [
    "import spacy\n",
    "nlp = spacy.load('en_core_web_sm')\n",
    "punctuations = string.punctuation\n",
    "def cleanup_text(docs, logging=False):\n",
    "    texts = []\n",
    "    counter = 1\n",
    "    for doc in docs:\n",
    "        if counter % 1000 == 0 and logging:\n",
    "            print(\"Processed %d out of %d documents.\" % (counter, len(docs)))\n",
    "        counter += 1\n",
    "        doc = nlp(doc, disable=['parser', 'ner'])\n",
    "        tokens = [tok.lemma_.lower().strip() for tok in doc if tok.lemma_ != '-PRON-']\n",
    "        tokens = [tok for tok in tokens if tok not in stopwords and tok not in punctuations]\n",
    "        tokens = ' '.join(tokens)\n",
    "        texts.append(tokens)\n",
    "    return pd.Series(texts)\n",
    "EAP_text = [text for text in train[train['author'] == 'EAP']['text']]\n",
    "HPL_text = [text for text in train[train['author'] == 'HPL']['text']]\n",
    "MWS_text = [text for text in train[train['author'] == 'MWS']['text']]\n",
    "EAP_clean = cleanup_text(EAP_text)\n",
    "EAP_clean = ' '.join(EAP_clean).split()\n",
    "HPL_clean = cleanup_text(HPL_text)\n",
    "HPL_clean = ' '.join(HPL_clean).split()\n",
    "MWS_clean = cleanup_text(MWS_text)\n",
    "MWS_clean = ' '.join(MWS_clean).split()\n",
    "EAP_counts = Counter(EAP_clean)\n",
    "HPL_counts = Counter(HPL_clean)\n",
    "MWS_counts = Counter(MWS_clean)\n",
    "EAP_common_words = [word[0] for word in EAP_counts.most_common(20)]\n",
    "EAP_common_counts = [word[1] for word in EAP_counts.most_common(20)]\n",
    "fig = plt.figure(figsize=(18,6))\n",
    "sns.barplot(x=EAP_common_words, y=EAP_common_counts)\n",
    "plt.title('Most Common Words used in short stories written by Edgar Allan Poe')\n",
    "plt.show()"
   ]
  },
  {
   "cell_type": "code",
   "execution_count": 7,
   "id": "diverse-banks",
   "metadata": {},
   "outputs": [
    {
     "data": {
      "image/png": "[encoded data removed]",
      "text/plain": [
       "<Figure size 1296x432 with 1 Axes>"
      ]
     },
     "metadata": {
      "needs_background": "light"
     },
     "output_type": "display_data"
    }
   ],
   "source": [
    "HPL_common_words = [word[0] for word in HPL_counts.most_common(20)]\n",
    "HPL_common_counts = [word[1] for word in HPL_counts.most_common(20)]\n",
    "fig = plt.figure(figsize=(18,6))\n",
    "sns.barplot(x=HPL_common_words, y=HPL_common_counts)\n",
    "plt.title('Most Common Words used in the short stories of H.P. Lovecraft')\n",
    "plt.show()"
   ]
  },
  {
   "cell_type": "code",
   "execution_count": 8,
   "id": "embedded-alarm",
   "metadata": {},
   "outputs": [
    {
     "data": {
      "image/png": "[encoded data removed]",
      "text/plain": [
       "<Figure size 1296x432 with 1 Axes>"
      ]
     },
     "metadata": {
      "needs_background": "light"
     },
     "output_type": "display_data"
    }
   ],
   "source": [
    "MWS_common_words = [word[0] for word in MWS_counts.most_common(20)]\n",
    "MWS_common_counts = [word[1] for word in MWS_counts.most_common(20)]\n",
    "fig = plt.figure(figsize=(18,6))\n",
    "sns.barplot(x=MWS_common_words, y=MWS_common_counts)\n",
    "plt.title('Most Common Words used in the short stories of Mary Wallstonecraft Shelley')\n",
    "plt.show()"
   ]
  },
  {
   "cell_type": "code",
   "execution_count": 9,
   "id": "coordinated-night",
   "metadata": {},
   "outputs": [
    {
     "name": "stderr",
     "output_type": "stream",
     "text": [
      "/opt/anaconda3/lib/python3.8/site-packages/sklearn/utils/deprecation.py:144: FutureWarning: The sklearn.feature_extraction.stop_words module is  deprecated in version 0.22 and will be removed in version 0.24. The corresponding classes / functions should instead be imported from sklearn.feature_extraction.text. Anything that cannot be imported from sklearn.feature_extraction.text is now part of the private API.\n",
      "  warnings.warn(message, FutureWarning)\n"
     ]
    }
   ],
   "source": [
    "from sklearn.feature_extraction.text import CountVectorizer\n",
    "from sklearn.base import TransformerMixin\n",
    "from sklearn.pipeline import Pipeline\n",
    "from sklearn.svm import LinearSVC\n",
    "from sklearn.feature_extraction.stop_words import ENGLISH_STOP_WORDS\n",
    "from sklearn.metrics import accuracy_score\n",
    "from nltk.corpus import stopwords\n",
    "import string\n",
    "import re\n",
    "import spacy\n",
    "spacy.load('en')\n",
    "from spacy.lang.en import English\n",
    "parser = English()"
   ]
  },
  {
   "cell_type": "code",
   "execution_count": 10,
   "id": "practical-offset",
   "metadata": {},
   "outputs": [],
   "source": [
    "STOPLIST = set(stopwords.words('english') + list(ENGLISH_STOP_WORDS))\n",
    "SYMBOLS = \" \".join(string.punctuation).split(\" \") + [\"-\", \"...\", \"”\", \"”\"]\n",
    "class CleanTextTransformer(TransformerMixin):\n",
    "   def transform(self, X, **transform_params):\n",
    "        return [cleanText(text) for text in X]\n",
    "   def fit(self, X, y=None, **fit_params):\n",
    "        return self\n",
    "def get_params(self, deep=True):\n",
    "        return {}\n",
    "    \n",
    "def cleanText(text):\n",
    "    text = text.strip().replace(\"\\n\", \" \").replace(\"\\r\", \" \")\n",
    "    text = text.lower()\n",
    "    return text\n",
    "def tokenizeText(sample):\n",
    "    tokens = parser(sample)\n",
    "    lemmas = []\n",
    "    for tok in tokens:\n",
    "        lemmas.append(tok.lemma_.lower().strip() if tok.lemma_ != \"-PRON-\" else tok.lower_)\n",
    "    tokens = lemmas\n",
    "    tokens = [tok for tok in tokens if tok not in STOPLIST]\n",
    "    tokens = [tok for tok in tokens if tok not in SYMBOLS]\n",
    "    return tokens"
   ]
  },
  {
   "cell_type": "code",
   "execution_count": 11,
   "id": "cubic-namibia",
   "metadata": {},
   "outputs": [],
   "source": [
    "def printNMostInformative(vectorizer, clf, N):\n",
    "    feature_names = vectorizer.get_feature_names()\n",
    "    coefs_with_fns = sorted(zip(clf.coef_[0], feature_names))\n",
    "    topClass1 = coefs_with_fns[:N]\n",
    "    topClass2 = coefs_with_fns[:-(N + 1):-1]\n",
    "    print(\"Class 1 best: \")\n",
    "    for feat in topClass1:\n",
    "        print(feat)\n",
    "    print(\"Class 2 best: \")\n",
    "    for feat in topClass2:\n",
    "        print(feat)\n",
    "vectorizer = CountVectorizer(tokenizer=tokenizeText, ngram_range=(1,1))\n",
    "clf = LinearSVC()\n"
   ]
  },
  {
   "cell_type": "code",
   "execution_count": 12,
   "id": "distinct-limitation",
   "metadata": {},
   "outputs": [],
   "source": [
    "test_unlabeled = pd.read_csv('../data/test.csv')"
   ]
  },
  {
   "cell_type": "code",
   "execution_count": 13,
   "id": "cardiac-jungle",
   "metadata": {},
   "outputs": [
    {
     "name": "stdout",
     "output_type": "stream",
     "text": [
      "accuracy: 0.7511606313834726\n",
      "Top 20 features used to predict: \n",
      "Class 1 best: \n",
      "(-1.63609605258807, 'brood')\n",
      "(-1.6240566203653897, 'raymond')\n",
      "(-1.500338544815305, 'fraction')\n",
      "(-1.4875178024677969, 'adrian')\n",
      "(-1.452580414806388, 'whilst')\n",
      "(-1.4450232605867308, 'perdita')\n",
      "(-1.4151084289567966, 'hasten')\n",
      "(-1.3977193318759666, 'squirmin')\n",
      "(-1.375767165597924, 'kirwin')\n",
      "(-1.3566506740248614, \"n'bangus\")\n",
      "(-1.3309720231031792, 'england')\n",
      "(-1.3290088631380201, 'fright')\n",
      "(-1.3269728173931647, 'clerval')\n",
      "(-1.3089463211926848, 'consummation')\n",
      "(-1.288836122097234, 'crumble')\n",
      "(-1.2845878247429567, 'balance')\n",
      "(-1.2771913271204014, 'labour')\n",
      "(-1.2750958278946884, 'doorbell')\n",
      "(-1.25707825791872, 'separation')\n",
      "(-1.2550605310518002, 'haggard')\n",
      "Class 2 best: \n",
      "(1.8254061439792453, 'oppodeldoc')\n",
      "(1.6205483439624535, 'wakefulness')\n",
      "(1.5626292595893814, 'wyatt')\n",
      "(1.4454636288449159, 'color')\n",
      "(1.403403783839794, 'deadly')\n",
      "(1.3952038149057335, 'comet')\n",
      "(1.3912294365614388, 'scrutiny')\n",
      "(1.3733141307436076, 'foretell')\n",
      "(1.3540731670519799, 'epoch')\n",
      "(1.352570978048675, 'dupin')\n",
      "(1.3284066168730364, 'almighty')\n",
      "(1.3169356863720265, 'veriest')\n",
      "(1.3162625254151066, 'rhinoceros')\n",
      "(1.2973859594637713, 'nosology')\n",
      "(1.2912700852190597, 'equivocal')\n",
      "(1.2881784813630772, 'invoke')\n",
      "(1.278656425349755, 'positively')\n",
      "(1.2727795263316364, 'forthwith')\n",
      "(1.262455235109556, 'tablet')\n",
      "(1.253288622163085, 'appreciate')\n"
     ]
    }
   ],
   "source": [
    "\n",
    "pipe = Pipeline([('cleanText', CleanTextTransformer()), ('vectorizer', vectorizer), ('clf', clf)])\n",
    "# data\n",
    "train1 = train['text'].tolist()\n",
    "labelsTrain1 = train['author'].tolist()\n",
    "test1 = test['text'].tolist()\n",
    "labelsTest1 = test['author'].tolist()\n",
    "# train\n",
    "pipe.fit(train1, labelsTrain1)\n",
    "# test\n",
    "preds = pipe.predict(test1)\n",
    "print(\"accuracy:\", accuracy_score(labelsTest1, preds))\n",
    "print(\"Top 20 features used to predict: \")\n",
    "\n",
    "printNMostInformative(vectorizer, clf, 20)\n",
    "pipe = Pipeline([('cleanText', CleanTextTransformer()), ('vectorizer', vectorizer)])\n",
    "transform = pipe.fit_transform(train1, labelsTrain1)\n",
    "vocab = vectorizer.get_feature_names()\n",
    "for i in range(len(train1)):\n",
    "    s = \"\"\n",
    "    indexIntoVocab = transform.indices[transform.indptr[i]:transform.indptr[i+1]]\n",
    "    numOccurences = transform.data[transform.indptr[i]:transform.indptr[i+1]]\n",
    "    for idx, num in zip(indexIntoVocab, numOccurences):\n",
    "        s += str((vocab[idx], num))"
   ]
  },
  {
   "cell_type": "code",
   "execution_count": 15,
   "id": "prepared-fault",
   "metadata": {},
   "outputs": [
    {
     "name": "stdout",
     "output_type": "stream",
     "text": [
      "              precision    recall  f1-score   support\n",
      "\n",
      "         EAP       0.74      0.79      0.76      2587\n",
      "         HPL       0.78      0.72      0.75      1852\n",
      "         MWS       0.75      0.74      0.74      2023\n",
      "\n",
      "    accuracy                           0.75      6462\n",
      "   macro avg       0.75      0.75      0.75      6462\n",
      "weighted avg       0.75      0.75      0.75      6462\n",
      "\n"
     ]
    }
   ],
   "source": [
    "from sklearn import metrics\n",
    "print(metrics.classification_report(labelsTest1, preds, \n",
    "                                    target_names=df['author'].unique()))"
   ]
  },
  {
   "cell_type": "code",
   "execution_count": null,
   "id": "current-mercury",
   "metadata": {},
   "outputs": [],
   "source": []
  }
 ],
 "metadata": {
  "kernelspec": {
   "display_name": "Python 3",
   "language": "python",
   "name": "python3"
  },
  "language_info": {
   "codemirror_mode": {
    "name": "ipython",
    "version": 3
   },
   "file_extension": ".py",
   "mimetype": "text/x-python",
   "name": "python",
   "nbconvert_exporter": "python",
   "pygments_lexer": "ipython3",
   "version": "3.8.2"
  }
 },
 "nbformat": 4,
 "nbformat_minor": 5
}
