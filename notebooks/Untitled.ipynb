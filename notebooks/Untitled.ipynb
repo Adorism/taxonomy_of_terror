{
 "cells": [
  {
   "cell_type": "code",
   "execution_count": 28,
   "id": "weekly-unemployment",
   "metadata": {},
   "outputs": [],
   "source": [
    "import gensim\n",
    "from gensim.models import Word2Vec \n",
    "from gensim.models import KeyedVectors\n",
    "from time import time  # To time our operations\n",
    "import pandas as pd\n",
    "from nltk.tokenize import RegexpTokenizer\n",
    "from collections import Counter"
   ]
  },
  {
   "cell_type": "code",
   "execution_count": 2,
   "id": "tired-tennis",
   "metadata": {},
   "outputs": [],
   "source": [
    "df = pd.read_csv('../data/train.csv')"
   ]
  },
  {
   "cell_type": "code",
   "execution_count": 3,
   "id": "pressed-haiti",
   "metadata": {},
   "outputs": [],
   "source": [
    "pd.set_option('max_colwidth', 1000)\n",
    "pd.options.display.max_rows = 500\n"
   ]
  },
  {
   "cell_type": "code",
   "execution_count": 4,
   "id": "funny-world",
   "metadata": {},
   "outputs": [
    {
     "name": "stdout",
     "output_type": "stream",
     "text": [
      "(19579, 3)\n"
     ]
    },
    {
     "data": {
      "text/html": [
       "<div>\n",
       "<style scoped>\n",
       "    .dataframe tbody tr th:only-of-type {\n",
       "        vertical-align: middle;\n",
       "    }\n",
       "\n",
       "    .dataframe tbody tr th {\n",
       "        vertical-align: top;\n",
       "    }\n",
       "\n",
       "    .dataframe thead th {\n",
       "        text-align: right;\n",
       "    }\n",
       "</style>\n",
       "<table border=\"1\" class=\"dataframe\">\n",
       "  <thead>\n",
       "    <tr style=\"text-align: right;\">\n",
       "      <th></th>\n",
       "      <th>id</th>\n",
       "      <th>text</th>\n",
       "      <th>author</th>\n",
       "    </tr>\n",
       "  </thead>\n",
       "  <tbody>\n",
       "    <tr>\n",
       "      <th>0</th>\n",
       "      <td>id26305</td>\n",
       "      <td>This process, however, afforded me no means of ascertaining the dimensions of my dungeon; as I might make its circuit, and return to the point whence I set out, without being aware of the fact; so perfectly uniform seemed the wall.</td>\n",
       "      <td>EAP</td>\n",
       "    </tr>\n",
       "    <tr>\n",
       "      <th>1</th>\n",
       "      <td>id17569</td>\n",
       "      <td>It never once occurred to me that the fumbling might be a mere mistake.</td>\n",
       "      <td>HPL</td>\n",
       "    </tr>\n",
       "    <tr>\n",
       "      <th>2</th>\n",
       "      <td>id11008</td>\n",
       "      <td>In his left hand was a gold snuff box, from which, as he capered down the hill, cutting all manner of fantastic steps, he took snuff incessantly with an air of the greatest possible self satisfaction.</td>\n",
       "      <td>EAP</td>\n",
       "    </tr>\n",
       "    <tr>\n",
       "      <th>3</th>\n",
       "      <td>id27763</td>\n",
       "      <td>How lovely is spring As we looked from Windsor Terrace on the sixteen fertile counties spread beneath, speckled by happy cottages and wealthier towns, all looked as in former years, heart cheering and fair.</td>\n",
       "      <td>MWS</td>\n",
       "    </tr>\n",
       "    <tr>\n",
       "      <th>4</th>\n",
       "      <td>id12958</td>\n",
       "      <td>Finding nothing else, not even gold, the Superintendent abandoned his attempts; but a perplexed look occasionally steals over his countenance as he sits thinking at his desk.</td>\n",
       "      <td>HPL</td>\n",
       "    </tr>\n",
       "  </tbody>\n",
       "</table>\n",
       "</div>"
      ],
      "text/plain": [
       "        id  \\\n",
       "0  id26305   \n",
       "1  id17569   \n",
       "2  id11008   \n",
       "3  id27763   \n",
       "4  id12958   \n",
       "\n",
       "                                                                                                                                                                                                                                      text  \\\n",
       "0  This process, however, afforded me no means of ascertaining the dimensions of my dungeon; as I might make its circuit, and return to the point whence I set out, without being aware of the fact; so perfectly uniform seemed the wall.   \n",
       "1                                                                                                                                                                  It never once occurred to me that the fumbling might be a mere mistake.   \n",
       "2                                 In his left hand was a gold snuff box, from which, as he capered down the hill, cutting all manner of fantastic steps, he took snuff incessantly with an air of the greatest possible self satisfaction.   \n",
       "3                           How lovely is spring As we looked from Windsor Terrace on the sixteen fertile counties spread beneath, speckled by happy cottages and wealthier towns, all looked as in former years, heart cheering and fair.   \n",
       "4                                                           Finding nothing else, not even gold, the Superintendent abandoned his attempts; but a perplexed look occasionally steals over his countenance as he sits thinking at his desk.   \n",
       "\n",
       "  author  \n",
       "0    EAP  \n",
       "1    HPL  \n",
       "2    EAP  \n",
       "3    MWS  \n",
       "4    HPL  "
      ]
     },
     "execution_count": 4,
     "metadata": {},
     "output_type": "execute_result"
    }
   ],
   "source": [
    "print(df.shape)\n",
    "df.head()"
   ]
  },
  {
   "cell_type": "code",
   "execution_count": 5,
   "id": "congressional-conditions",
   "metadata": {},
   "outputs": [],
   "source": [
    "df=df.reset_index(drop=True)"
   ]
  },
  {
   "cell_type": "code",
   "execution_count": 6,
   "id": "textile-statement",
   "metadata": {},
   "outputs": [
    {
     "data": {
      "text/html": [
       "<div>\n",
       "<style scoped>\n",
       "    .dataframe tbody tr th:only-of-type {\n",
       "        vertical-align: middle;\n",
       "    }\n",
       "\n",
       "    .dataframe tbody tr th {\n",
       "        vertical-align: top;\n",
       "    }\n",
       "\n",
       "    .dataframe thead th {\n",
       "        text-align: right;\n",
       "    }\n",
       "</style>\n",
       "<table border=\"1\" class=\"dataframe\">\n",
       "  <thead>\n",
       "    <tr style=\"text-align: right;\">\n",
       "      <th></th>\n",
       "      <th>id</th>\n",
       "      <th>text</th>\n",
       "      <th>author</th>\n",
       "    </tr>\n",
       "  </thead>\n",
       "  <tbody>\n",
       "    <tr>\n",
       "      <th>0</th>\n",
       "      <td>id26305</td>\n",
       "      <td>This process, however, afforded me no means of ascertaining the dimensions of my dungeon; as I might make its circuit, and return to the point whence I set out, without being aware of the fact; so perfectly uniform seemed the wall.</td>\n",
       "      <td>EAP</td>\n",
       "    </tr>\n",
       "    <tr>\n",
       "      <th>1</th>\n",
       "      <td>id17569</td>\n",
       "      <td>It never once occurred to me that the fumbling might be a mere mistake.</td>\n",
       "      <td>HPL</td>\n",
       "    </tr>\n",
       "    <tr>\n",
       "      <th>2</th>\n",
       "      <td>id11008</td>\n",
       "      <td>In his left hand was a gold snuff box, from which, as he capered down the hill, cutting all manner of fantastic steps, he took snuff incessantly with an air of the greatest possible self satisfaction.</td>\n",
       "      <td>EAP</td>\n",
       "    </tr>\n",
       "    <tr>\n",
       "      <th>3</th>\n",
       "      <td>id27763</td>\n",
       "      <td>How lovely is spring As we looked from Windsor Terrace on the sixteen fertile counties spread beneath, speckled by happy cottages and wealthier towns, all looked as in former years, heart cheering and fair.</td>\n",
       "      <td>MWS</td>\n",
       "    </tr>\n",
       "    <tr>\n",
       "      <th>4</th>\n",
       "      <td>id12958</td>\n",
       "      <td>Finding nothing else, not even gold, the Superintendent abandoned his attempts; but a perplexed look occasionally steals over his countenance as he sits thinking at his desk.</td>\n",
       "      <td>HPL</td>\n",
       "    </tr>\n",
       "  </tbody>\n",
       "</table>\n",
       "</div>"
      ],
      "text/plain": [
       "        id  \\\n",
       "0  id26305   \n",
       "1  id17569   \n",
       "2  id11008   \n",
       "3  id27763   \n",
       "4  id12958   \n",
       "\n",
       "                                                                                                                                                                                                                                      text  \\\n",
       "0  This process, however, afforded me no means of ascertaining the dimensions of my dungeon; as I might make its circuit, and return to the point whence I set out, without being aware of the fact; so perfectly uniform seemed the wall.   \n",
       "1                                                                                                                                                                  It never once occurred to me that the fumbling might be a mere mistake.   \n",
       "2                                 In his left hand was a gold snuff box, from which, as he capered down the hill, cutting all manner of fantastic steps, he took snuff incessantly with an air of the greatest possible self satisfaction.   \n",
       "3                           How lovely is spring As we looked from Windsor Terrace on the sixteen fertile counties spread beneath, speckled by happy cottages and wealthier towns, all looked as in former years, heart cheering and fair.   \n",
       "4                                                           Finding nothing else, not even gold, the Superintendent abandoned his attempts; but a perplexed look occasionally steals over his countenance as he sits thinking at his desk.   \n",
       "\n",
       "  author  \n",
       "0    EAP  \n",
       "1    HPL  \n",
       "2    EAP  \n",
       "3    MWS  \n",
       "4    HPL  "
      ]
     },
     "execution_count": 6,
     "metadata": {},
     "output_type": "execute_result"
    }
   ],
   "source": [
    "df.head()"
   ]
  },
  {
   "cell_type": "code",
   "execution_count": 7,
   "id": "defined-extreme",
   "metadata": {},
   "outputs": [
    {
     "data": {
      "text/plain": [
       "(19579, 4)"
      ]
     },
     "execution_count": 7,
     "metadata": {},
     "output_type": "execute_result"
    }
   ],
   "source": [
    "df['clean'] = df['text'].str.replace('X', '')\n",
    "df['clean'] = df['clean'].str.replace('//', '')\n",
    "\n",
    "df = df.dropna().drop_duplicates()\n",
    "df.shape"
   ]
  },
  {
   "cell_type": "code",
   "execution_count": 8,
   "id": "excited-rocket",
   "metadata": {},
   "outputs": [
    {
     "data": {
      "text/html": [
       "<div>\n",
       "<style scoped>\n",
       "    .dataframe tbody tr th:only-of-type {\n",
       "        vertical-align: middle;\n",
       "    }\n",
       "\n",
       "    .dataframe tbody tr th {\n",
       "        vertical-align: top;\n",
       "    }\n",
       "\n",
       "    .dataframe thead th {\n",
       "        text-align: right;\n",
       "    }\n",
       "</style>\n",
       "<table border=\"1\" class=\"dataframe\">\n",
       "  <thead>\n",
       "    <tr style=\"text-align: right;\">\n",
       "      <th></th>\n",
       "      <th>id</th>\n",
       "      <th>text</th>\n",
       "      <th>author</th>\n",
       "      <th>clean</th>\n",
       "    </tr>\n",
       "  </thead>\n",
       "  <tbody>\n",
       "    <tr>\n",
       "      <th>0</th>\n",
       "      <td>id26305</td>\n",
       "      <td>This process, however, afforded me no means of ascertaining the dimensions of my dungeon; as I might make its circuit, and return to the point whence I set out, without being aware of the fact; so perfectly uniform seemed the wall.</td>\n",
       "      <td>EAP</td>\n",
       "      <td>This process, however, afforded me no means of ascertaining the dimensions of my dungeon; as I might make its circuit, and return to the point whence I set out, without being aware of the fact; so perfectly uniform seemed the wall.</td>\n",
       "    </tr>\n",
       "    <tr>\n",
       "      <th>1</th>\n",
       "      <td>id17569</td>\n",
       "      <td>It never once occurred to me that the fumbling might be a mere mistake.</td>\n",
       "      <td>HPL</td>\n",
       "      <td>It never once occurred to me that the fumbling might be a mere mistake.</td>\n",
       "    </tr>\n",
       "    <tr>\n",
       "      <th>2</th>\n",
       "      <td>id11008</td>\n",
       "      <td>In his left hand was a gold snuff box, from which, as he capered down the hill, cutting all manner of fantastic steps, he took snuff incessantly with an air of the greatest possible self satisfaction.</td>\n",
       "      <td>EAP</td>\n",
       "      <td>In his left hand was a gold snuff box, from which, as he capered down the hill, cutting all manner of fantastic steps, he took snuff incessantly with an air of the greatest possible self satisfaction.</td>\n",
       "    </tr>\n",
       "    <tr>\n",
       "      <th>3</th>\n",
       "      <td>id27763</td>\n",
       "      <td>How lovely is spring As we looked from Windsor Terrace on the sixteen fertile counties spread beneath, speckled by happy cottages and wealthier towns, all looked as in former years, heart cheering and fair.</td>\n",
       "      <td>MWS</td>\n",
       "      <td>How lovely is spring As we looked from Windsor Terrace on the sixteen fertile counties spread beneath, speckled by happy cottages and wealthier towns, all looked as in former years, heart cheering and fair.</td>\n",
       "    </tr>\n",
       "    <tr>\n",
       "      <th>4</th>\n",
       "      <td>id12958</td>\n",
       "      <td>Finding nothing else, not even gold, the Superintendent abandoned his attempts; but a perplexed look occasionally steals over his countenance as he sits thinking at his desk.</td>\n",
       "      <td>HPL</td>\n",
       "      <td>Finding nothing else, not even gold, the Superintendent abandoned his attempts; but a perplexed look occasionally steals over his countenance as he sits thinking at his desk.</td>\n",
       "    </tr>\n",
       "  </tbody>\n",
       "</table>\n",
       "</div>"
      ],
      "text/plain": [
       "        id  \\\n",
       "0  id26305   \n",
       "1  id17569   \n",
       "2  id11008   \n",
       "3  id27763   \n",
       "4  id12958   \n",
       "\n",
       "                                                                                                                                                                                                                                      text  \\\n",
       "0  This process, however, afforded me no means of ascertaining the dimensions of my dungeon; as I might make its circuit, and return to the point whence I set out, without being aware of the fact; so perfectly uniform seemed the wall.   \n",
       "1                                                                                                                                                                  It never once occurred to me that the fumbling might be a mere mistake.   \n",
       "2                                 In his left hand was a gold snuff box, from which, as he capered down the hill, cutting all manner of fantastic steps, he took snuff incessantly with an air of the greatest possible self satisfaction.   \n",
       "3                           How lovely is spring As we looked from Windsor Terrace on the sixteen fertile counties spread beneath, speckled by happy cottages and wealthier towns, all looked as in former years, heart cheering and fair.   \n",
       "4                                                           Finding nothing else, not even gold, the Superintendent abandoned his attempts; but a perplexed look occasionally steals over his countenance as he sits thinking at his desk.   \n",
       "\n",
       "  author  \\\n",
       "0    EAP   \n",
       "1    HPL   \n",
       "2    EAP   \n",
       "3    MWS   \n",
       "4    HPL   \n",
       "\n",
       "                                                                                                                                                                                                                                     clean  \n",
       "0  This process, however, afforded me no means of ascertaining the dimensions of my dungeon; as I might make its circuit, and return to the point whence I set out, without being aware of the fact; so perfectly uniform seemed the wall.  \n",
       "1                                                                                                                                                                  It never once occurred to me that the fumbling might be a mere mistake.  \n",
       "2                                 In his left hand was a gold snuff box, from which, as he capered down the hill, cutting all manner of fantastic steps, he took snuff incessantly with an air of the greatest possible self satisfaction.  \n",
       "3                           How lovely is spring As we looked from Windsor Terrace on the sixteen fertile counties spread beneath, speckled by happy cottages and wealthier towns, all looked as in former years, heart cheering and fair.  \n",
       "4                                                           Finding nothing else, not even gold, the Superintendent abandoned his attempts; but a perplexed look occasionally steals over his countenance as he sits thinking at his desk.  "
      ]
     },
     "execution_count": 8,
     "metadata": {},
     "output_type": "execute_result"
    }
   ],
   "source": [
    "df.head()"
   ]
  },
  {
   "cell_type": "code",
   "execution_count": 9,
   "id": "disabled-float",
   "metadata": {},
   "outputs": [
    {
     "data": {
      "text/html": [
       "<div>\n",
       "<style scoped>\n",
       "    .dataframe tbody tr th:only-of-type {\n",
       "        vertical-align: middle;\n",
       "    }\n",
       "\n",
       "    .dataframe tbody tr th {\n",
       "        vertical-align: top;\n",
       "    }\n",
       "\n",
       "    .dataframe thead th {\n",
       "        text-align: right;\n",
       "    }\n",
       "</style>\n",
       "<table border=\"1\" class=\"dataframe\">\n",
       "  <thead>\n",
       "    <tr style=\"text-align: right;\">\n",
       "      <th></th>\n",
       "      <th>clean</th>\n",
       "    </tr>\n",
       "  </thead>\n",
       "  <tbody>\n",
       "    <tr>\n",
       "      <th>0</th>\n",
       "      <td>This process, however, afforded me no means of ascertaining the dimensions of my dungeon; as I might make its circuit, and return to the point whence I set out, without being aware of the fact; so perfectly uniform seemed the wall.</td>\n",
       "    </tr>\n",
       "    <tr>\n",
       "      <th>1</th>\n",
       "      <td>It never once occurred to me that the fumbling might be a mere mistake.</td>\n",
       "    </tr>\n",
       "    <tr>\n",
       "      <th>2</th>\n",
       "      <td>In his left hand was a gold snuff box, from which, as he capered down the hill, cutting all manner of fantastic steps, he took snuff incessantly with an air of the greatest possible self satisfaction.</td>\n",
       "    </tr>\n",
       "    <tr>\n",
       "      <th>3</th>\n",
       "      <td>How lovely is spring As we looked from Windsor Terrace on the sixteen fertile counties spread beneath, speckled by happy cottages and wealthier towns, all looked as in former years, heart cheering and fair.</td>\n",
       "    </tr>\n",
       "    <tr>\n",
       "      <th>4</th>\n",
       "      <td>Finding nothing else, not even gold, the Superintendent abandoned his attempts; but a perplexed look occasionally steals over his countenance as he sits thinking at his desk.</td>\n",
       "    </tr>\n",
       "  </tbody>\n",
       "</table>\n",
       "</div>"
      ],
      "text/plain": [
       "                                                                                                                                                                                                                                     clean\n",
       "0  This process, however, afforded me no means of ascertaining the dimensions of my dungeon; as I might make its circuit, and return to the point whence I set out, without being aware of the fact; so perfectly uniform seemed the wall.\n",
       "1                                                                                                                                                                  It never once occurred to me that the fumbling might be a mere mistake.\n",
       "2                                 In his left hand was a gold snuff box, from which, as he capered down the hill, cutting all manner of fantastic steps, he took snuff incessantly with an air of the greatest possible self satisfaction.\n",
       "3                           How lovely is spring As we looked from Windsor Terrace on the sixteen fertile counties spread beneath, speckled by happy cottages and wealthier towns, all looked as in former years, heart cheering and fair.\n",
       "4                                                           Finding nothing else, not even gold, the Superintendent abandoned his attempts; but a perplexed look occasionally steals over his countenance as he sits thinking at his desk."
      ]
     },
     "execution_count": 9,
     "metadata": {},
     "output_type": "execute_result"
    }
   ],
   "source": [
    "df_clean= df[['clean']]\n",
    "df_clean.head()"
   ]
  },
  {
   "cell_type": "code",
   "execution_count": 10,
   "id": "growing-hunger",
   "metadata": {},
   "outputs": [],
   "source": [
    "sentences = df_clean.clean.astype('str').tolist()"
   ]
  },
  {
   "cell_type": "code",
   "execution_count": 11,
   "id": "understood-parade",
   "metadata": {},
   "outputs": [
    {
     "data": {
      "text/plain": [
       "'It never once occurred to me that the fumbling might be a mere mistake.'"
      ]
     },
     "execution_count": 11,
     "metadata": {},
     "output_type": "execute_result"
    }
   ],
   "source": [
    "sentences[1]"
   ]
  },
  {
   "cell_type": "code",
   "execution_count": 12,
   "id": "moderate-writer",
   "metadata": {},
   "outputs": [],
   "source": [
    "tokenizer = RegexpTokenizer(r'\\w+')\n",
    "sentences_tokenized = [w.lower() for w in sentences]\n",
    "sentences_tokenized = [tokenizer.tokenize(i) for i in sentences_tokenized]"
   ]
  },
  {
   "cell_type": "code",
   "execution_count": 13,
   "id": "adaptive-termination",
   "metadata": {},
   "outputs": [
    {
     "data": {
      "text/plain": [
       "['it',\n",
       " 'never',\n",
       " 'once',\n",
       " 'occurred',\n",
       " 'to',\n",
       " 'me',\n",
       " 'that',\n",
       " 'the',\n",
       " 'fumbling',\n",
       " 'might',\n",
       " 'be',\n",
       " 'a',\n",
       " 'mere',\n",
       " 'mistake']"
      ]
     },
     "execution_count": 13,
     "metadata": {},
     "output_type": "execute_result"
    }
   ],
   "source": [
    "sentences_tokenized[1]"
   ]
  },
  {
   "cell_type": "code",
   "execution_count": 14,
   "id": "composed-video",
   "metadata": {},
   "outputs": [],
   "source": [
    "model_2 = Word2Vec(size=300, min_count=1)\n",
    "model_2.build_vocab(sentences_tokenized)\n",
    "total_examples = model_2.corpus_count"
   ]
  },
  {
   "cell_type": "code",
   "execution_count": 15,
   "id": "accepting-farmer",
   "metadata": {},
   "outputs": [
    {
     "data": {
      "text/plain": [
       "19579"
      ]
     },
     "execution_count": 15,
     "metadata": {},
     "output_type": "execute_result"
    }
   ],
   "source": [
    "total_examples"
   ]
  },
  {
   "cell_type": "code",
   "execution_count": 16,
   "id": "mounted-burden",
   "metadata": {},
   "outputs": [
    {
     "data": {
      "text/plain": [
       "(1931217, 2624650)"
      ]
     },
     "execution_count": 16,
     "metadata": {},
     "output_type": "execute_result"
    }
   ],
   "source": [
    "model_2.train(sentences_tokenized, total_examples=total_examples, epochs=5)"
   ]
  },
  {
   "cell_type": "code",
   "execution_count": 17,
   "id": "hindu-static",
   "metadata": {},
   "outputs": [],
   "source": [
    "# gensim flavored word2vec model (smaller)\n",
    "model_2.save(\"cfpb_word2vec_gensim.model\")\n",
    "\n",
    "# generic word2vec model\n",
    "model_2.wv.save_word2vec_format(\"cfpb_word2vec.model\")"
   ]
  },
  {
   "cell_type": "code",
   "execution_count": 19,
   "id": "focused-irish",
   "metadata": {},
   "outputs": [
    {
     "data": {
      "text/plain": [
       "[('therefore', 0.9934089183807373),\n",
       " ('thus', 0.9926667213439941),\n",
       " ('glad', 0.9926332831382751),\n",
       " ('miserable', 0.9911856651306152),\n",
       " ('deem', 0.9906996488571167),\n",
       " ('wonder', 0.9905576109886169),\n",
       " ('mistake', 0.9904453754425049),\n",
       " ('innocent', 0.9901567697525024),\n",
       " ('write', 0.9898671507835388),\n",
       " ('suffer', 0.9892314076423645),\n",
       " ('starvation', 0.9891708493232727),\n",
       " ('talbot', 0.9891479015350342),\n",
       " ('ellison', 0.9887548685073853),\n",
       " ('saying', 0.9885528683662415),\n",
       " ('alas', 0.9881043434143066),\n",
       " ('enough', 0.9865896701812744),\n",
       " ('hurt', 0.9865418076515198),\n",
       " ('help', 0.9863461852073669),\n",
       " ('hope', 0.9859954118728638),\n",
       " ('design', 0.9858341217041016)]"
      ]
     },
     "execution_count": 19,
     "metadata": {},
     "output_type": "execute_result"
    }
   ],
   "source": [
    "model_2.wv.most_similar(positive=[\"fear\"],topn=20)"
   ]
  },
  {
   "cell_type": "code",
   "execution_count": 20,
   "id": "occupational-petersburg",
   "metadata": {},
   "outputs": [
    {
     "data": {
      "text/plain": [
       "[('life', 0.9885854125022888),\n",
       " ('conscious', 0.9871594309806824),\n",
       " ('pleasure', 0.9865512847900391),\n",
       " ('joy', 0.9856240749359131),\n",
       " ('wondering', 0.9842042326927185),\n",
       " ('dreaded', 0.9840525984764099),\n",
       " ('paper', 0.9840333461761475),\n",
       " ('everything', 0.9840158224105835),\n",
       " ('aira', 0.9837222099304199),\n",
       " ('danger', 0.9836448431015015),\n",
       " ('loss', 0.9833593368530273),\n",
       " ('struggle', 0.9831165671348572),\n",
       " ('clerval', 0.9828856587409973),\n",
       " ('romero', 0.9826533198356628),\n",
       " ('reality', 0.9822296500205994),\n",
       " ('right', 0.98220294713974),\n",
       " ('pain', 0.9820623993873596),\n",
       " ('evadne', 0.9817845225334167),\n",
       " ('subject', 0.9815769195556641),\n",
       " ('property', 0.9814900755882263)]"
      ]
     },
     "execution_count": 20,
     "metadata": {},
     "output_type": "execute_result"
    }
   ],
   "source": [
    "model_2.wv.most_similar(positive=[\"death\"],topn=20)"
   ]
  },
  {
   "cell_type": "code",
   "execution_count": 21,
   "id": "thrown-batch",
   "metadata": {},
   "outputs": [
    {
     "data": {
      "text/plain": [
       "[('dining', 0.977532148361206),\n",
       " ('division', 0.9772526025772095),\n",
       " ('curtain', 0.9763384461402893),\n",
       " ('centres', 0.9759824872016907),\n",
       " ('brilliancy', 0.9753515720367432),\n",
       " ('exceptional', 0.974250316619873),\n",
       " ('plateau', 0.973727285861969),\n",
       " ('pipe', 0.9735968708992004),\n",
       " ('surface', 0.973585844039917),\n",
       " ('vibration', 0.9724158644676208),\n",
       " ('crypt', 0.9713874459266663),\n",
       " ('floor', 0.9711004495620728),\n",
       " ('pump', 0.9710243344306946),\n",
       " ('sea', 0.971000075340271),\n",
       " ('ceiling', 0.970344066619873),\n",
       " ('plane', 0.970242440700531),\n",
       " ('middle', 0.9699829816818237),\n",
       " ('crescent', 0.9695845246315002),\n",
       " ('vicinity', 0.9692627787590027),\n",
       " ('ratio', 0.9689659476280212)]"
      ]
     },
     "execution_count": 21,
     "metadata": {},
     "output_type": "execute_result"
    }
   ],
   "source": [
    "model_2.wv.most_similar(positive=[\"sadness\"],topn=20)"
   ]
  },
  {
   "cell_type": "code",
   "execution_count": 22,
   "id": "naval-radius",
   "metadata": {},
   "outputs": [
    {
     "data": {
      "text/plain": [
       "[('depth', 0.9976285099983215),\n",
       " ('outside', 0.9973813891410828),\n",
       " ('lore', 0.9971867799758911),\n",
       " ('majestic', 0.9971573352813721),\n",
       " ('furniture', 0.9968922138214111),\n",
       " ('surrounding', 0.9962925314903259),\n",
       " ('dollars', 0.9961143136024475),\n",
       " ('vast', 0.9960190057754517),\n",
       " ('lies', 0.9959723353385925),\n",
       " ('alleys', 0.9959322214126587),\n",
       " ('yard', 0.9957825541496277),\n",
       " ('parts', 0.9957324266433716),\n",
       " ('architecture', 0.9957004189491272),\n",
       " ('slender', 0.9956944584846497),\n",
       " ('towns', 0.9956374168395996),\n",
       " ('monsters', 0.9956196546554565),\n",
       " ('solid', 0.9955776929855347),\n",
       " ('rattling', 0.9955224990844727),\n",
       " ('monday', 0.9955081343650818),\n",
       " ('hull', 0.9954779744148254)]"
      ]
     },
     "execution_count": 22,
     "metadata": {},
     "output_type": "execute_result"
    }
   ],
   "source": [
    "model_2.wv.most_similar(positive=[\"bones\"],topn=20)"
   ]
  },
  {
   "cell_type": "code",
   "execution_count": 23,
   "id": "norman-currency",
   "metadata": {},
   "outputs": [
    {
     "data": {
      "text/plain": [
       "[('secret', 0.995396077632904),\n",
       " ('blast', 0.9945616126060486),\n",
       " ('prize', 0.9939549565315247),\n",
       " ('probably', 0.9938997626304626),\n",
       " ('lot', 0.9936739802360535),\n",
       " ('success', 0.9932600855827332),\n",
       " ('fancy', 0.9931904673576355),\n",
       " ('letter', 0.9931466579437256),\n",
       " ('plan', 0.9930580854415894),\n",
       " ('alarm', 0.9928062558174133),\n",
       " ('route', 0.9928004741668701),\n",
       " ('recognized', 0.9925017952919006),\n",
       " ('fellow', 0.9924525618553162),\n",
       " ('stranger', 0.9923420548439026),\n",
       " ('suggested', 0.9922141432762146),\n",
       " ('tale', 0.9920439124107361),\n",
       " ('signing', 0.9919105172157288),\n",
       " ('assume', 0.9917292594909668),\n",
       " ('afterwards', 0.9914488196372986),\n",
       " ('puzzled', 0.9913617372512817)]"
      ]
     },
     "execution_count": 23,
     "metadata": {},
     "output_type": "execute_result"
    }
   ],
   "source": [
    "model_2.wv.most_similar(positive=[\"monster\"],topn=20)"
   ]
  },
  {
   "cell_type": "code",
   "execution_count": 24,
   "id": "electrical-atmosphere",
   "metadata": {},
   "outputs": [
    {
     "data": {
      "text/plain": [
       "[('tongue', 0.9954713582992554),\n",
       " ('angel', 0.9951224327087402),\n",
       " ('mate', 0.9950457215309143),\n",
       " ('kingdom', 0.9948097467422485),\n",
       " ('relief', 0.994807779788971),\n",
       " ('student', 0.994584321975708),\n",
       " ('eloquence', 0.994573712348938),\n",
       " ('earl', 0.9945673942565918),\n",
       " ('mighty', 0.9944623708724976),\n",
       " ('career', 0.9944474101066589),\n",
       " ('alfred', 0.9944204092025757),\n",
       " ('influence', 0.9944180846214294),\n",
       " ('intolerable', 0.9942636489868164),\n",
       " ('daemon', 0.9942554235458374),\n",
       " ('transom', 0.9941710233688354),\n",
       " ('conduct', 0.9941644668579102),\n",
       " ('records', 0.9941511154174805),\n",
       " ('occasionally', 0.9938586950302124),\n",
       " ('build', 0.9938068389892578),\n",
       " ('nervous', 0.9935907125473022)]"
      ]
     },
     "execution_count": 24,
     "metadata": {},
     "output_type": "execute_result"
    }
   ],
   "source": [
    "model_2.wv.most_similar(positive=[\"ghost\"],topn=20)"
   ]
  },
  {
   "cell_type": "code",
   "execution_count": 25,
   "id": "falling-tenant",
   "metadata": {},
   "outputs": [
    {
     "data": {
      "text/plain": [
       "[('grave', 0.9977316856384277),\n",
       " ('fiendish', 0.9971648454666138),\n",
       " ('final', 0.9969742298126221),\n",
       " ('entire', 0.9966479539871216),\n",
       " ('quarters', 0.9965805411338806),\n",
       " ('original', 0.9965382814407349),\n",
       " ('weather', 0.9964395761489868),\n",
       " ('considerable', 0.9964183568954468),\n",
       " ('emperor', 0.9962469935417175),\n",
       " ('domestic', 0.9962397217750549),\n",
       " ('leaving', 0.9962388277053833),\n",
       " ('morbid', 0.9962120652198792),\n",
       " ('tracks', 0.9961638450622559),\n",
       " ('fort', 0.9960253238677979),\n",
       " ('collection', 0.9959434270858765),\n",
       " ('overhead', 0.9956843852996826),\n",
       " ('perusal', 0.9955878853797913),\n",
       " ('grotesquely', 0.9954590797424316),\n",
       " ('using', 0.9954279661178589),\n",
       " ('aged', 0.995413064956665)]"
      ]
     },
     "execution_count": 25,
     "metadata": {},
     "output_type": "execute_result"
    }
   ],
   "source": [
    "model_2.wv.most_similar(positive=[\"bird\"],topn=20)"
   ]
  },
  {
   "cell_type": "code",
   "execution_count": 26,
   "id": "moral-queens",
   "metadata": {},
   "outputs": [
    {
     "data": {
      "text/plain": [
       "[('real', 0.9977949261665344),\n",
       " ('destined', 0.9964823722839355),\n",
       " ('threat', 0.9960616827011108),\n",
       " ('overcome', 0.9959409236907959),\n",
       " ('required', 0.9950913786888123),\n",
       " ('understanding', 0.9942488670349121),\n",
       " ('earthly', 0.9940835237503052),\n",
       " ('witness', 0.9940212965011597),\n",
       " ('assume', 0.9939340353012085),\n",
       " ('bell', 0.9938948154449463),\n",
       " ('mood', 0.9937348365783691),\n",
       " ('useless', 0.9936450719833374),\n",
       " ('calm', 0.9933038949966431),\n",
       " ('memory', 0.993080198764801),\n",
       " ('further', 0.9930652379989624),\n",
       " ('contributed', 0.9930320978164673),\n",
       " ('purpose', 0.9929251074790955),\n",
       " ('peaceful', 0.9928152561187744),\n",
       " ('honour', 0.9923943281173706),\n",
       " ('torture', 0.992365300655365)]"
      ]
     },
     "execution_count": 26,
     "metadata": {},
     "output_type": "execute_result"
    }
   ],
   "source": [
    "model_2.wv.most_similar(positive=[\"madness\"],topn=20)"
   ]
  },
  {
   "cell_type": "code",
   "execution_count": 27,
   "id": "split-omaha",
   "metadata": {},
   "outputs": [
    {
     "data": {
      "text/plain": [
       "[('nearer', 0.9971088171005249),\n",
       " ('vague', 0.9971067309379578),\n",
       " ('animal', 0.9969926476478577),\n",
       " ('hideous', 0.996752917766571),\n",
       " ('apparent', 0.996265172958374),\n",
       " ('visible', 0.996038556098938),\n",
       " ('monstrous', 0.9959450960159302),\n",
       " ('minute', 0.9958000183105469),\n",
       " ('science', 0.995759904384613),\n",
       " ('bewildered', 0.9955950975418091),\n",
       " ('sense', 0.995522677898407),\n",
       " ('getting', 0.9953920245170593),\n",
       " ('consciousness', 0.9953712224960327),\n",
       " ('somewhat', 0.9953329563140869),\n",
       " ('editor', 0.9952120184898376),\n",
       " ('expectation', 0.9951753616333008),\n",
       " ('suggestion', 0.9951502084732056),\n",
       " ('squatters', 0.9950902462005615),\n",
       " ('reasoning', 0.9949457049369812),\n",
       " ('peculiar', 0.9947172403335571)]"
      ]
     },
     "execution_count": 27,
     "metadata": {},
     "output_type": "execute_result"
    }
   ],
   "source": [
    "model_2.wv.most_similar(positive=[\"evil\"],topn=20)"
   ]
  },
  {
   "cell_type": "code",
   "execution_count": null,
   "id": "alpine-lunch",
   "metadata": {},
   "outputs": [],
   "source": []
  }
 ],
 "metadata": {
  "kernelspec": {
   "display_name": "Python 3",
   "language": "python",
   "name": "python3"
  },
  "language_info": {
   "codemirror_mode": {
    "name": "ipython",
    "version": 3
   },
   "file_extension": ".py",
   "mimetype": "text/x-python",
   "name": "python",
   "nbconvert_exporter": "python",
   "pygments_lexer": "ipython3",
   "version": "3.8.2"
  }
 },
 "nbformat": 4,
 "nbformat_minor": 5
}
